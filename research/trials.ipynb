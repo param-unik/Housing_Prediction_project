{
 "cells": [
  {
   "cell_type": "code",
   "execution_count": 1,
   "id": "initial_id",
   "metadata": {
    "collapsed": true,
    "ExecuteTime": {
     "end_time": "2023-12-25T11:28:38.331967900Z",
     "start_time": "2023-12-25T11:28:37.650354300Z"
    }
   },
   "outputs": [],
   "source": [
    "from collections import namedtuple"
   ]
  },
  {
   "cell_type": "markdown",
   "source": [
    "# DataIngestionConfi:\n",
    "\n",
    "1. Download url\n",
    "2. Download folder as compressed file\n",
    "3. Extract folder\n",
    "4. Train dataset folder\n",
    "5. Test dataset folder"
   ],
   "metadata": {
    "collapsed": false
   },
   "id": "8600275218f3c3e9"
  },
  {
   "cell_type": "code",
   "execution_count": 2,
   "outputs": [],
   "source": [
    "DataIngestionConfig = namedtuple('DataIngestionConfig',\n",
    "\t\t\t\t\t\t\t\t ['dataset_download_url', 'tgz_download_dir', 'raw_data_dir', 'ingested_train_dir', 'ingested_test_dir'])"
   ],
   "metadata": {
    "collapsed": false,
    "ExecuteTime": {
     "end_time": "2023-12-25T11:28:38.371114600Z",
     "start_time": "2023-12-25T11:28:38.318470200Z"
    }
   },
   "id": "f9a9048e32463dc4"
  },
  {
   "cell_type": "code",
   "execution_count": 3,
   "outputs": [],
   "source": [
    "data_ingestion_config = DataIngestionConfig(dataset_download_url=\"xyz\",\n",
    "\t\t\t\t\t\t\t\t\t\t\ttgz_download_dir='slides',\n",
    "\t\t\t\t\t\t\t\t\t\t\traw_data_dir='dsd sd',\n",
    "\t\t\t\t\t\t\t\t\t\t\tingested_train_dir='dsd sd',\n",
    "\t\t\t\t\t\t\t\t\t\t\tingested_test_dir='dsd')\n"
   ],
   "metadata": {
    "collapsed": false,
    "ExecuteTime": {
     "end_time": "2023-12-25T11:28:38.443356300Z",
     "start_time": "2023-12-25T11:28:38.359145400Z"
    }
   },
   "id": "912d0200f7aede68"
  },
  {
   "cell_type": "code",
   "execution_count": 4,
   "outputs": [
    {
     "data": {
      "text/plain": "DataIngestionConfig(dataset_download_url='xyz', tgz_download_dir='slides', raw_data_dir='dsd sd', ingested_train_dir='dsd sd', ingested_test_dir='dsd')"
     },
     "execution_count": 4,
     "metadata": {},
     "output_type": "execute_result"
    }
   ],
   "source": [
    "data_ingestion_config"
   ],
   "metadata": {
    "collapsed": false,
    "ExecuteTime": {
     "end_time": "2023-12-25T11:28:38.478629Z",
     "start_time": "2023-12-25T11:28:38.431265100Z"
    }
   },
   "id": "e2e605c4c53939ac"
  },
  {
   "cell_type": "code",
   "execution_count": 5,
   "outputs": [],
   "source": [
    "import yaml\n",
    "import os"
   ],
   "metadata": {
    "collapsed": false,
    "ExecuteTime": {
     "end_time": "2023-12-25T11:28:38.573412500Z",
     "start_time": "2023-12-25T11:28:38.466877500Z"
    }
   },
   "id": "24d388756478eda9"
  },
  {
   "cell_type": "code",
   "execution_count": 6,
   "outputs": [
    {
     "data": {
      "text/plain": "'C:\\\\Users\\\\Param\\\\Python-Project\\\\CampusX\\\\GitHub\\\\Housing_Prediction_project\\\\research'"
     },
     "execution_count": 6,
     "metadata": {},
     "output_type": "execute_result"
    }
   ],
   "source": [
    "os.getcwd()"
   ],
   "metadata": {
    "collapsed": false,
    "ExecuteTime": {
     "end_time": "2023-12-25T11:28:38.584009800Z",
     "start_time": "2023-12-25T11:28:38.531503800Z"
    }
   },
   "id": "c497a1676756675c"
  },
  {
   "cell_type": "code",
   "execution_count": 7,
   "outputs": [],
   "source": [
    "os.chdir('C:\\\\Users\\\\Param\\\\Python-Project\\\\CampusX\\\\GitHub\\\\Housing_Prediction_project')"
   ],
   "metadata": {
    "collapsed": false,
    "ExecuteTime": {
     "end_time": "2023-12-25T11:28:38.655990100Z",
     "start_time": "2023-12-25T11:28:38.583007Z"
    }
   },
   "id": "1fd6acb98790f2ce"
  },
  {
   "cell_type": "code",
   "execution_count": 8,
   "outputs": [
    {
     "data": {
      "text/plain": "'C:\\\\Users\\\\Param\\\\Python-Project\\\\CampusX\\\\GitHub\\\\Housing_Prediction_project'"
     },
     "execution_count": 8,
     "metadata": {},
     "output_type": "execute_result"
    }
   ],
   "source": [
    "os.getcwd()"
   ],
   "metadata": {
    "collapsed": false,
    "ExecuteTime": {
     "end_time": "2023-12-25T11:28:38.666509Z",
     "start_time": "2023-12-25T11:28:38.637291600Z"
    }
   },
   "id": "b81f1884dec0c430"
  },
  {
   "cell_type": "code",
   "execution_count": 9,
   "outputs": [
    {
     "data": {
      "text/plain": "['config.yaml', 'model.yaml', 'schema.yaml']"
     },
     "execution_count": 9,
     "metadata": {},
     "output_type": "execute_result"
    }
   ],
   "source": [
    "os.listdir(\"config\")"
   ],
   "metadata": {
    "collapsed": false,
    "ExecuteTime": {
     "end_time": "2023-12-25T11:28:38.725967600Z",
     "start_time": "2023-12-25T11:28:38.666509Z"
    }
   },
   "id": "1237a6a311d5bf18"
  },
  {
   "cell_type": "code",
   "execution_count": 10,
   "outputs": [
    {
     "data": {
      "text/plain": "'config\\\\config.yaml'"
     },
     "execution_count": 10,
     "metadata": {},
     "output_type": "execute_result"
    }
   ],
   "source": [
    "config_file_path = os.path.join('config', 'config.yaml')\n",
    "config_file_path"
   ],
   "metadata": {
    "collapsed": false,
    "ExecuteTime": {
     "end_time": "2023-12-25T11:28:38.755261100Z",
     "start_time": "2023-12-25T11:28:38.715339400Z"
    }
   },
   "id": "96246084d54c0f82"
  },
  {
   "cell_type": "code",
   "execution_count": 11,
   "outputs": [
    {
     "data": {
      "text/plain": "True"
     },
     "execution_count": 11,
     "metadata": {},
     "output_type": "execute_result"
    }
   ],
   "source": [
    "os.path.exists(config_file_path)"
   ],
   "metadata": {
    "collapsed": false,
    "ExecuteTime": {
     "end_time": "2023-12-25T11:28:38.814177100Z",
     "start_time": "2023-12-25T11:28:38.736010600Z"
    }
   },
   "id": "7cf1880bb430428c"
  },
  {
   "cell_type": "code",
   "execution_count": 12,
   "outputs": [],
   "source": [
    "# import sys\n",
    "# from housing.exception import HousingException\n",
    "# from housing.logger import logging\n",
    "#\n",
    "# def read_yaml_file(file_path: str) -> dict:\n",
    "#     \"\"\"\n",
    "#     Read YAML file and return contents as a dictionary\n",
    "#     :param\n",
    "#         file_path: str\n",
    "#     :return: dict\n",
    "#     \"\"\"\n",
    "#\n",
    "#     try:\n",
    "#         with open(file_path, 'rb') as yaml_file:\n",
    "#             return yaml.safe_load(yaml_file)\n",
    "#     except Exception as e:\n",
    "#         housing_error = HousingException(e, sys)\n",
    "#         logging.info(housing_error.error_message)\n"
   ],
   "metadata": {
    "collapsed": false,
    "ExecuteTime": {
     "end_time": "2023-12-25T11:28:38.844087200Z",
     "start_time": "2023-12-25T11:28:38.794984300Z"
    }
   },
   "id": "e0f575cfbed311f3"
  },
  {
   "cell_type": "code",
   "execution_count": 13,
   "outputs": [],
   "source": [
    "# read_yaml_file(config_file_path)"
   ],
   "metadata": {
    "collapsed": false,
    "ExecuteTime": {
     "end_time": "2023-12-25T11:28:38.894503800Z",
     "start_time": "2023-12-25T11:28:38.836994800Z"
    }
   },
   "id": "c88dc083fb27c051"
  },
  {
   "cell_type": "code",
   "execution_count": 14,
   "outputs": [],
   "source": [
    "content = None\n",
    "with open(config_file_path, 'rb') as yaml_file:\n",
    "\tcontent = yaml.safe_load(yaml_file)"
   ],
   "metadata": {
    "collapsed": false,
    "ExecuteTime": {
     "end_time": "2023-12-25T11:28:38.937140Z",
     "start_time": "2023-12-25T11:28:38.884250900Z"
    }
   },
   "id": "ae70a5a92fb9f6c2"
  },
  {
   "cell_type": "code",
   "execution_count": 15,
   "outputs": [
    {
     "data": {
      "text/plain": "{'training_pipeline_config': {'pipeline_name': 'housing',\n  'artifact_dir': 'artifact'},\n 'data_ingestion_config': {'dataset_download_url': 'https://raw.githubusercontent.com/ageron/handson-ml/master/datasets/housing/housing.tgz',\n  'raw_data_dir': 'raw_data',\n  'tgz_download_dir': 'tgz_data',\n  'ingested_dir': 'ingested_data',\n  'ingested_train_dir': 'train',\n  'ingested_test_dir': 'test'},\n 'data_validation_config': {'schema_dir': 'config',\n  'schema_file_name': 'schema.yaml',\n  'report_file_name': 'report.json',\n  'report_page_file_name': 'report.html'},\n 'data_transformation_config': {'add_bedroom_per_room': True,\n  'transformed_dir': 'transformed_data',\n  'transformed_train_dir': 'train',\n  'transformed_test_dir': 'test',\n  'preprocessing_dir': 'preprocessed',\n  'preprocessed_object_file_name': 'preprocessed.pkl'},\n 'model_trainer_config': {'trained_model_dir': 'trained_model',\n  'model_file_name': 'model.pkl',\n  'base_accuracy': 0.6,\n  'model_config_dir': 'config',\n  'model_config_file_name': 'model.yaml'},\n 'model_evaluation_config': {'model_evaluation_file_name': 'model_evaluation.yaml'},\n 'model_pusher_config': {'model_export_dir': 'saved_models'}}"
     },
     "execution_count": 15,
     "metadata": {},
     "output_type": "execute_result"
    }
   ],
   "source": [
    "content"
   ],
   "metadata": {
    "collapsed": false,
    "ExecuteTime": {
     "end_time": "2023-12-25T11:28:38.973187900Z",
     "start_time": "2023-12-25T11:28:38.917880500Z"
    }
   },
   "id": "179c2cc9024b4b20"
  },
  {
   "cell_type": "code",
   "execution_count": 16,
   "outputs": [],
   "source": [
    "from housing.config.configuration import Configuration\n",
    "from housing.constants import *"
   ],
   "metadata": {
    "collapsed": false,
    "ExecuteTime": {
     "end_time": "2023-12-25T11:28:39.052071300Z",
     "start_time": "2023-12-25T11:28:38.973187900Z"
    }
   },
   "id": "a2954ff04e9b2d11"
  },
  {
   "cell_type": "code",
   "execution_count": 17,
   "outputs": [],
   "source": [
    "config = Configuration(CONFIG_FILE_PATH, CURRENT_TIME_STAMP)"
   ],
   "metadata": {
    "collapsed": false,
    "ExecuteTime": {
     "end_time": "2023-12-25T11:28:39.100989400Z",
     "start_time": "2023-12-25T11:28:39.038160300Z"
    }
   },
   "id": "d13895f15b0d124e"
  },
  {
   "cell_type": "code",
   "execution_count": 18,
   "outputs": [
    {
     "data": {
      "text/plain": "{'training_pipeline_config': {'pipeline_name': 'housing',\n  'artifact_dir': 'artifact'},\n 'data_ingestion_config': {'dataset_download_url': 'https://raw.githubusercontent.com/ageron/handson-ml/master/datasets/housing/housing.tgz',\n  'raw_data_dir': 'raw_data',\n  'tgz_download_dir': 'tgz_data',\n  'ingested_dir': 'ingested_data',\n  'ingested_train_dir': 'train',\n  'ingested_test_dir': 'test'},\n 'data_validation_config': {'schema_dir': 'config',\n  'schema_file_name': 'schema.yaml',\n  'report_file_name': 'report.json',\n  'report_page_file_name': 'report.html'},\n 'data_transformation_config': {'add_bedroom_per_room': True,\n  'transformed_dir': 'transformed_data',\n  'transformed_train_dir': 'train',\n  'transformed_test_dir': 'test',\n  'preprocessing_dir': 'preprocessed',\n  'preprocessed_object_file_name': 'preprocessed.pkl'},\n 'model_trainer_config': {'trained_model_dir': 'trained_model',\n  'model_file_name': 'model.pkl',\n  'base_accuracy': 0.6,\n  'model_config_dir': 'config',\n  'model_config_file_name': 'model.yaml'},\n 'model_evaluation_config': {'model_evaluation_file_name': 'model_evaluation.yaml'},\n 'model_pusher_config': {'model_export_dir': 'saved_models'}}"
     },
     "execution_count": 18,
     "metadata": {},
     "output_type": "execute_result"
    }
   ],
   "source": [
    "config.config_info"
   ],
   "metadata": {
    "collapsed": false,
    "ExecuteTime": {
     "end_time": "2023-12-25T11:28:39.128940300Z",
     "start_time": "2023-12-25T11:28:39.078301100Z"
    }
   },
   "id": "4e1eb7e70a6b941"
  },
  {
   "cell_type": "code",
   "execution_count": 19,
   "outputs": [
    {
     "data": {
      "text/plain": "TrainingPipelineConfig(pipeline_name='housing', artifact_dir='C:\\\\Users\\\\Param\\\\Python-Project\\\\CampusX\\\\GitHub\\\\Housing_Prediction_project\\\\housing\\\\artifact')"
     },
     "execution_count": 19,
     "metadata": {},
     "output_type": "execute_result"
    }
   ],
   "source": [
    "config.get_training_pipeline_config()"
   ],
   "metadata": {
    "collapsed": false,
    "ExecuteTime": {
     "end_time": "2023-12-25T11:28:39.212907100Z",
     "start_time": "2023-12-25T11:28:39.126932300Z"
    }
   },
   "id": "e0b3a140a8c9f49a"
  },
  {
   "cell_type": "code",
   "execution_count": 20,
   "outputs": [
    {
     "data": {
      "text/plain": "'data_validation_config'"
     },
     "execution_count": 20,
     "metadata": {},
     "output_type": "execute_result"
    }
   ],
   "source": [
    "DATA_VALIDATION_CONFIG_KEY"
   ],
   "metadata": {
    "collapsed": false,
    "ExecuteTime": {
     "end_time": "2023-12-25T11:28:39.231042500Z",
     "start_time": "2023-12-25T11:28:39.185132Z"
    }
   },
   "id": "aa66e047df9b4d28"
  },
  {
   "cell_type": "code",
   "execution_count": 21,
   "outputs": [
    {
     "data": {
      "text/plain": "{'dataset_download_url': 'https://raw.githubusercontent.com/ageron/handson-ml/master/datasets/housing/housing.tgz',\n 'raw_data_dir': 'raw_data',\n 'tgz_download_dir': 'tgz_data',\n 'ingested_dir': 'ingested_data',\n 'ingested_train_dir': 'train',\n 'ingested_test_dir': 'test'}"
     },
     "execution_count": 21,
     "metadata": {},
     "output_type": "execute_result"
    }
   ],
   "source": [
    "config.config_info[DATA_INGESTION_CONFIG_KEY]"
   ],
   "metadata": {
    "collapsed": false,
    "ExecuteTime": {
     "end_time": "2023-12-25T11:28:39.320341300Z",
     "start_time": "2023-12-25T11:28:39.230042600Z"
    }
   },
   "id": "8824fdca9c63ee95"
  },
  {
   "cell_type": "code",
   "execution_count": 22,
   "outputs": [
    {
     "data": {
      "text/plain": "DataIngestionConfig(dataset_download_url='https://raw.githubusercontent.com/ageron/handson-ml/master/datasets/housing/housing.tgz', tgz_download_dir='C:\\\\Users\\\\Param\\\\Python-Project\\\\CampusX\\\\GitHub\\\\Housing_Prediction_project\\\\housing\\\\artifact\\\\data_ingestion\\\\2023-12-25-16-58-38\\\\tgz_data', raw_data_dir='C:\\\\Users\\\\Param\\\\Python-Project\\\\CampusX\\\\GitHub\\\\Housing_Prediction_project\\\\housing\\\\artifact\\\\data_ingestion\\\\2023-12-25-16-58-38\\\\raw_data', ingested_train_dir='C:\\\\Users\\\\Param\\\\Python-Project\\\\CampusX\\\\GitHub\\\\Housing_Prediction_project\\\\housing\\\\artifact\\\\data_ingestion\\\\2023-12-25-16-58-38\\\\ingested_data\\\\train', ingested_test_dir='C:\\\\Users\\\\Param\\\\Python-Project\\\\CampusX\\\\GitHub\\\\Housing_Prediction_project\\\\housing\\\\artifact\\\\data_ingestion\\\\2023-12-25-16-58-38\\\\ingested_data\\\\test')"
     },
     "execution_count": 22,
     "metadata": {},
     "output_type": "execute_result"
    }
   ],
   "source": [
    "config.get_data_ingestion_config()"
   ],
   "metadata": {
    "collapsed": false,
    "ExecuteTime": {
     "end_time": "2023-12-25T11:28:39.386259Z",
     "start_time": "2023-12-25T11:28:39.304251700Z"
    }
   },
   "id": "2418c04f2bbc7bb5"
  },
  {
   "cell_type": "code",
   "execution_count": 23,
   "outputs": [],
   "source": [
    "url_path = \"https://raw.githubusercontent.com/ageron/handson-ml/master/datasets/housing/housing.tgz\""
   ],
   "metadata": {
    "collapsed": false,
    "ExecuteTime": {
     "end_time": "2023-12-25T11:28:39.429026400Z",
     "start_time": "2023-12-25T11:28:39.341101300Z"
    }
   },
   "id": "6e9dda0ae9c40261"
  },
  {
   "cell_type": "code",
   "execution_count": 24,
   "outputs": [
    {
     "data": {
      "text/plain": "'housing.tgz'"
     },
     "execution_count": 24,
     "metadata": {},
     "output_type": "execute_result"
    }
   ],
   "source": [
    "url_path.split(\"/\")[-1]"
   ],
   "metadata": {
    "collapsed": false,
    "ExecuteTime": {
     "end_time": "2023-12-25T11:28:39.475436600Z",
     "start_time": "2023-12-25T11:28:39.413176200Z"
    }
   },
   "id": "c5d71f5b6dcee538"
  },
  {
   "cell_type": "code",
   "execution_count": 25,
   "outputs": [
    {
     "data": {
      "text/plain": "'housing.tgz'"
     },
     "execution_count": 25,
     "metadata": {},
     "output_type": "execute_result"
    }
   ],
   "source": [
    "import os\n",
    "\n",
    "os.path.basename(url_path)"
   ],
   "metadata": {
    "collapsed": false,
    "ExecuteTime": {
     "end_time": "2023-12-25T11:28:39.513882800Z",
     "start_time": "2023-12-25T11:28:39.451080900Z"
    }
   },
   "id": "6abfd425d8605479"
  },
  {
   "cell_type": "code",
   "execution_count": 26,
   "outputs": [],
   "source": [
    "csv_path = r\"C:\\Users\\Param\\Python-Project\\CampusX\\GitHub\\Housing_Prediction_project\\housing\\artifact\\data_ingestion\\2023-12-24-20-16-03\\raw_data\\housing.csv\""
   ],
   "metadata": {
    "collapsed": false,
    "ExecuteTime": {
     "end_time": "2023-12-25T11:28:39.572377900Z",
     "start_time": "2023-12-25T11:28:39.499620300Z"
    }
   },
   "id": "3531cf4f8abb09fa"
  },
  {
   "cell_type": "code",
   "execution_count": 27,
   "outputs": [],
   "source": [
    "import pandas as pd\n",
    "\n",
    "df = pd.read_csv(csv_path)"
   ],
   "metadata": {
    "collapsed": false,
    "ExecuteTime": {
     "end_time": "2023-12-25T11:28:39.895341400Z",
     "start_time": "2023-12-25T11:28:39.560788900Z"
    }
   },
   "id": "6145fb15296fbf54"
  },
  {
   "cell_type": "code",
   "execution_count": 28,
   "outputs": [
    {
     "data": {
      "text/plain": "   longitude  latitude  housing_median_age  total_rooms  total_bedrooms  \\\n0    -122.23     37.88                41.0        880.0           129.0   \n1    -122.22     37.86                21.0       7099.0          1106.0   \n2    -122.24     37.85                52.0       1467.0           190.0   \n3    -122.25     37.85                52.0       1274.0           235.0   \n4    -122.25     37.85                52.0       1627.0           280.0   \n\n   population  households  median_income  median_house_value ocean_proximity  \n0       322.0       126.0         8.3252            452600.0        NEAR BAY  \n1      2401.0      1138.0         8.3014            358500.0        NEAR BAY  \n2       496.0       177.0         7.2574            352100.0        NEAR BAY  \n3       558.0       219.0         5.6431            341300.0        NEAR BAY  \n4       565.0       259.0         3.8462            342200.0        NEAR BAY  ",
      "text/html": "<div>\n<style scoped>\n    .dataframe tbody tr th:only-of-type {\n        vertical-align: middle;\n    }\n\n    .dataframe tbody tr th {\n        vertical-align: top;\n    }\n\n    .dataframe thead th {\n        text-align: right;\n    }\n</style>\n<table border=\"1\" class=\"dataframe\">\n  <thead>\n    <tr style=\"text-align: right;\">\n      <th></th>\n      <th>longitude</th>\n      <th>latitude</th>\n      <th>housing_median_age</th>\n      <th>total_rooms</th>\n      <th>total_bedrooms</th>\n      <th>population</th>\n      <th>households</th>\n      <th>median_income</th>\n      <th>median_house_value</th>\n      <th>ocean_proximity</th>\n    </tr>\n  </thead>\n  <tbody>\n    <tr>\n      <th>0</th>\n      <td>-122.23</td>\n      <td>37.88</td>\n      <td>41.0</td>\n      <td>880.0</td>\n      <td>129.0</td>\n      <td>322.0</td>\n      <td>126.0</td>\n      <td>8.3252</td>\n      <td>452600.0</td>\n      <td>NEAR BAY</td>\n    </tr>\n    <tr>\n      <th>1</th>\n      <td>-122.22</td>\n      <td>37.86</td>\n      <td>21.0</td>\n      <td>7099.0</td>\n      <td>1106.0</td>\n      <td>2401.0</td>\n      <td>1138.0</td>\n      <td>8.3014</td>\n      <td>358500.0</td>\n      <td>NEAR BAY</td>\n    </tr>\n    <tr>\n      <th>2</th>\n      <td>-122.24</td>\n      <td>37.85</td>\n      <td>52.0</td>\n      <td>1467.0</td>\n      <td>190.0</td>\n      <td>496.0</td>\n      <td>177.0</td>\n      <td>7.2574</td>\n      <td>352100.0</td>\n      <td>NEAR BAY</td>\n    </tr>\n    <tr>\n      <th>3</th>\n      <td>-122.25</td>\n      <td>37.85</td>\n      <td>52.0</td>\n      <td>1274.0</td>\n      <td>235.0</td>\n      <td>558.0</td>\n      <td>219.0</td>\n      <td>5.6431</td>\n      <td>341300.0</td>\n      <td>NEAR BAY</td>\n    </tr>\n    <tr>\n      <th>4</th>\n      <td>-122.25</td>\n      <td>37.85</td>\n      <td>52.0</td>\n      <td>1627.0</td>\n      <td>280.0</td>\n      <td>565.0</td>\n      <td>259.0</td>\n      <td>3.8462</td>\n      <td>342200.0</td>\n      <td>NEAR BAY</td>\n    </tr>\n  </tbody>\n</table>\n</div>"
     },
     "execution_count": 28,
     "metadata": {},
     "output_type": "execute_result"
    }
   ],
   "source": [
    "df.head()"
   ],
   "metadata": {
    "collapsed": false,
    "ExecuteTime": {
     "end_time": "2023-12-25T11:28:39.909880500Z",
     "start_time": "2023-12-25T11:28:39.870263800Z"
    }
   },
   "id": "8c9317810c0e701"
  },
  {
   "cell_type": "code",
   "execution_count": 29,
   "outputs": [
    {
     "data": {
      "text/plain": "<Axes: ylabel='Frequency'>"
     },
     "execution_count": 29,
     "metadata": {},
     "output_type": "execute_result"
    },
    {
     "data": {
      "text/plain": "<Figure size 640x480 with 1 Axes>",
      "image/png": "[encoded data removed]"
     },
     "metadata": {},
     "output_type": "display_data"
    }
   ],
   "source": [
    "df['median_income'].plot(kind='hist')"
   ],
   "metadata": {
    "collapsed": false,
    "ExecuteTime": {
     "end_time": "2023-12-25T11:28:40.314944400Z",
     "start_time": "2023-12-25T11:28:39.885289600Z"
    }
   },
   "id": "f53486bde0b9844f"
  },
  {
   "cell_type": "code",
   "execution_count": 30,
   "outputs": [],
   "source": [
    "import numpy as np\n",
    "\n",
    "df[\"income_cat\"] = pd.cut(\n",
    "\tdf[\"median_income\"],\n",
    "\tbins=[0.0, 1.5, 3.0, 4.5, 6.0, np.inf],\n",
    "\tlabels=[1, 2, 3, 4, 5],\n",
    ")"
   ],
   "metadata": {
    "collapsed": false,
    "ExecuteTime": {
     "end_time": "2023-12-25T11:28:40.412129800Z",
     "start_time": "2023-12-25T11:28:40.308176Z"
    }
   },
   "id": "133cb2807e6474f5"
  },
  {
   "cell_type": "code",
   "execution_count": 31,
   "outputs": [
    {
     "data": {
      "text/plain": "<Axes: ylabel='count'>"
     },
     "execution_count": 31,
     "metadata": {},
     "output_type": "execute_result"
    },
    {
     "data": {
      "text/plain": "<Figure size 640x480 with 1 Axes>",
      "image/png": "[encoded data removed]"
     },
     "metadata": {},
     "output_type": "display_data"
    }
   ],
   "source": [
    "df['income_cat'].value_counts().plot(kind='pie')"
   ],
   "metadata": {
    "collapsed": false,
    "ExecuteTime": {
     "end_time": "2023-12-25T11:28:40.441831500Z",
     "start_time": "2023-12-25T11:28:40.323127300Z"
    }
   },
   "id": "9099b42e159c1a11"
  },
  {
   "cell_type": "code",
   "execution_count": 32,
   "outputs": [],
   "source": [
    "from sklearn.model_selection import StratifiedShuffleSplit\n",
    "\n",
    "split = StratifiedShuffleSplit(n_splits=1, test_size=0.2, random_state=42)"
   ],
   "metadata": {
    "collapsed": false,
    "ExecuteTime": {
     "end_time": "2023-12-25T11:28:40.783148200Z",
     "start_time": "2023-12-25T11:28:40.385942900Z"
    }
   },
   "id": "5cc49685a75569d8"
  },
  {
   "cell_type": "code",
   "execution_count": 33,
   "outputs": [
    {
     "name": "stdout",
     "output_type": "stream",
     "text": [
      "train index : [12655 15502  2908 ... 19263 19140 19773]\n",
      "test index [ 5241 17352  3505 ... 17223 10786  3965]\n"
     ]
    }
   ],
   "source": [
    "for train_index, test_index in split.split(df, df['income_cat']):\n",
    "\tprint(\"train index :\", train_index)\n",
    "\tprint(\"test index\", test_index)\n"
   ],
   "metadata": {
    "collapsed": false,
    "ExecuteTime": {
     "end_time": "2023-12-25T11:28:40.886359100Z",
     "start_time": "2023-12-25T11:28:40.775144Z"
    }
   },
   "id": "5ba4f1ac0f7d9d39"
  },
  {
   "cell_type": "code",
   "execution_count": 34,
   "outputs": [
    {
     "data": {
      "text/plain": "(16512, 4128)"
     },
     "execution_count": 34,
     "metadata": {},
     "output_type": "execute_result"
    }
   ],
   "source": [
    "len(train_index), len(test_index)"
   ],
   "metadata": {
    "collapsed": false,
    "ExecuteTime": {
     "end_time": "2023-12-25T11:28:40.889330400Z",
     "start_time": "2023-12-25T11:28:40.807345200Z"
    }
   },
   "id": "9112fe61bcd7ba53"
  },
  {
   "cell_type": "code",
   "execution_count": 35,
   "outputs": [],
   "source": [
    "train_set = df.loc[train_index]\n",
    "test_set = df.loc[test_index]"
   ],
   "metadata": {
    "collapsed": false,
    "ExecuteTime": {
     "end_time": "2023-12-25T11:28:40.909961100Z",
     "start_time": "2023-12-25T11:28:40.821888Z"
    }
   },
   "id": "bc6dba147ea8d9bc"
  },
  {
   "cell_type": "code",
   "execution_count": 36,
   "outputs": [
    {
     "data": {
      "text/plain": "((16512, 11), (4128, 11))"
     },
     "execution_count": 36,
     "metadata": {},
     "output_type": "execute_result"
    }
   ],
   "source": [
    "train_set.shape, test_set.shape"
   ],
   "metadata": {
    "collapsed": false,
    "ExecuteTime": {
     "end_time": "2023-12-25T11:28:40.971552800Z",
     "start_time": "2023-12-25T11:28:40.838110400Z"
    }
   },
   "id": "19ff648a748a6dc9"
  },
  {
   "cell_type": "code",
   "execution_count": 37,
   "outputs": [
    {
     "data": {
      "text/plain": "<Axes: ylabel='count'>"
     },
     "execution_count": 37,
     "metadata": {},
     "output_type": "execute_result"
    },
    {
     "data": {
      "text/plain": "<Figure size 640x480 with 1 Axes>",
      "image/png": "[encoded data removed]"
     },
     "metadata": {},
     "output_type": "display_data"
    }
   ],
   "source": [
    "train_set['income_cat'].value_counts().plot(kind='pie')"
   ],
   "metadata": {
    "collapsed": false,
    "ExecuteTime": {
     "end_time": "2023-12-25T11:28:41.046755Z",
     "start_time": "2023-12-25T11:28:40.852179900Z"
    }
   },
   "id": "daca49a27ec5c980"
  },
  {
   "cell_type": "code",
   "execution_count": 38,
   "outputs": [
    {
     "data": {
      "text/plain": "<Axes: ylabel='count'>"
     },
     "execution_count": 38,
     "metadata": {},
     "output_type": "execute_result"
    },
    {
     "data": {
      "text/plain": "<Figure size 640x480 with 1 Axes>",
      "image/png": "[encoded data removed]"
     },
     "metadata": {},
     "output_type": "display_data"
    }
   ],
   "source": [
    "test_set['income_cat'].value_counts().plot(kind='pie')"
   ],
   "metadata": {
    "collapsed": false,
    "ExecuteTime": {
     "end_time": "2023-12-25T11:28:41.130828200Z",
     "start_time": "2023-12-25T11:28:40.961309200Z"
    }
   },
   "id": "6935997a9672d9a9"
  },
  {
   "cell_type": "code",
   "execution_count": 39,
   "outputs": [
    {
     "data": {
      "text/plain": "<Axes: ylabel='count'>"
     },
     "execution_count": 39,
     "metadata": {},
     "output_type": "execute_result"
    },
    {
     "data": {
      "text/plain": "<Figure size 640x480 with 1 Axes>",
      "image/png": "[encoded data removed]"
     },
     "metadata": {},
     "output_type": "display_data"
    }
   ],
   "source": [
    "df['income_cat'].value_counts().plot(kind='pie')"
   ],
   "metadata": {
    "collapsed": false,
    "ExecuteTime": {
     "end_time": "2023-12-25T11:28:41.162569300Z",
     "start_time": "2023-12-25T11:28:41.023448800Z"
    }
   },
   "id": "c0df38d63af6eba"
  },
  {
   "cell_type": "code",
   "execution_count": 40,
   "outputs": [
    {
     "data": {
      "text/plain": "pandas.core.frame.DataFrame"
     },
     "execution_count": 40,
     "metadata": {},
     "output_type": "execute_result"
    }
   ],
   "source": [
    "type(train_set)"
   ],
   "metadata": {
    "collapsed": false,
    "ExecuteTime": {
     "end_time": "2023-12-25T11:28:41.165595100Z",
     "start_time": "2023-12-25T11:28:41.085074800Z"
    }
   },
   "id": "5434369e67a78088"
  },
  {
   "cell_type": "code",
   "execution_count": 41,
   "outputs": [
    {
     "data": {
      "text/plain": "       longitude  latitude  housing_median_age  total_rooms  total_bedrooms  \\\n5241     -118.39     34.12                29.0       6447.0          1012.0   \n17352    -120.42     34.89                24.0       2020.0           307.0   \n3505     -118.45     34.25                36.0       1453.0           270.0   \n7777     -118.10     33.91                35.0       1653.0           325.0   \n14155    -117.07     32.77                38.0       3779.0           614.0   \n\n       population  households  median_income  median_house_value  \\\n5241       2184.0       960.0         8.2816            500001.0   \n17352       855.0       283.0         5.0099            162500.0   \n3505        808.0       275.0         4.3839            204600.0   \n7777       1072.0       301.0         3.2708            159700.0   \n14155      1495.0       614.0         4.3529            184000.0   \n\n      ocean_proximity income_cat  \n5241        <1H OCEAN          5  \n17352       <1H OCEAN          4  \n3505        <1H OCEAN          3  \n7777        <1H OCEAN          3  \n14155      NEAR OCEAN          3  ",
      "text/html": "<div>\n<style scoped>\n    .dataframe tbody tr th:only-of-type {\n        vertical-align: middle;\n    }\n\n    .dataframe tbody tr th {\n        vertical-align: top;\n    }\n\n    .dataframe thead th {\n        text-align: right;\n    }\n</style>\n<table border=\"1\" class=\"dataframe\">\n  <thead>\n    <tr style=\"text-align: right;\">\n      <th></th>\n      <th>longitude</th>\n      <th>latitude</th>\n      <th>housing_median_age</th>\n      <th>total_rooms</th>\n      <th>total_bedrooms</th>\n      <th>population</th>\n      <th>households</th>\n      <th>median_income</th>\n      <th>median_house_value</th>\n      <th>ocean_proximity</th>\n      <th>income_cat</th>\n    </tr>\n  </thead>\n  <tbody>\n    <tr>\n      <th>5241</th>\n      <td>-118.39</td>\n      <td>34.12</td>\n      <td>29.0</td>\n      <td>6447.0</td>\n      <td>1012.0</td>\n      <td>2184.0</td>\n      <td>960.0</td>\n      <td>8.2816</td>\n      <td>500001.0</td>\n      <td>&lt;1H OCEAN</td>\n      <td>5</td>\n    </tr>\n    <tr>\n      <th>17352</th>\n      <td>-120.42</td>\n      <td>34.89</td>\n      <td>24.0</td>\n      <td>2020.0</td>\n      <td>307.0</td>\n      <td>855.0</td>\n      <td>283.0</td>\n      <td>5.0099</td>\n      <td>162500.0</td>\n      <td>&lt;1H OCEAN</td>\n      <td>4</td>\n    </tr>\n    <tr>\n      <th>3505</th>\n      <td>-118.45</td>\n      <td>34.25</td>\n      <td>36.0</td>\n      <td>1453.0</td>\n      <td>270.0</td>\n      <td>808.0</td>\n      <td>275.0</td>\n      <td>4.3839</td>\n      <td>204600.0</td>\n      <td>&lt;1H OCEAN</td>\n      <td>3</td>\n    </tr>\n    <tr>\n      <th>7777</th>\n      <td>-118.10</td>\n      <td>33.91</td>\n      <td>35.0</td>\n      <td>1653.0</td>\n      <td>325.0</td>\n      <td>1072.0</td>\n      <td>301.0</td>\n      <td>3.2708</td>\n      <td>159700.0</td>\n      <td>&lt;1H OCEAN</td>\n      <td>3</td>\n    </tr>\n    <tr>\n      <th>14155</th>\n      <td>-117.07</td>\n      <td>32.77</td>\n      <td>38.0</td>\n      <td>3779.0</td>\n      <td>614.0</td>\n      <td>1495.0</td>\n      <td>614.0</td>\n      <td>4.3529</td>\n      <td>184000.0</td>\n      <td>NEAR OCEAN</td>\n      <td>3</td>\n    </tr>\n  </tbody>\n</table>\n</div>"
     },
     "execution_count": 41,
     "metadata": {},
     "output_type": "execute_result"
    }
   ],
   "source": [
    "test_set.head()"
   ],
   "metadata": {
    "collapsed": false,
    "ExecuteTime": {
     "end_time": "2023-12-25T11:28:41.253137300Z",
     "start_time": "2023-12-25T11:28:41.101246700Z"
    }
   },
   "id": "2d90b6f956c1f3b4"
  },
  {
   "cell_type": "code",
   "execution_count": 42,
   "outputs": [
    {
     "data": {
      "text/plain": "Index(['longitude', 'latitude', 'housing_median_age', 'total_rooms',\n       'total_bedrooms', 'population', 'households', 'median_income',\n       'median_house_value', 'ocean_proximity', 'income_cat'],\n      dtype='object')"
     },
     "execution_count": 42,
     "metadata": {},
     "output_type": "execute_result"
    }
   ],
   "source": [
    "df.dtypes.index"
   ],
   "metadata": {
    "collapsed": false,
    "ExecuteTime": {
     "end_time": "2023-12-25T11:28:41.330062300Z",
     "start_time": "2023-12-25T11:28:41.116306800Z"
    }
   },
   "id": "e89d8839a6c434f5"
  },
  {
   "cell_type": "code",
   "execution_count": 43,
   "outputs": [],
   "source": [
    "data_types = list(map(lambda x: str(x), df.dtypes.values))\n",
    "column_names = df.columns"
   ],
   "metadata": {
    "collapsed": false,
    "ExecuteTime": {
     "end_time": "2023-12-25T11:28:41.340784500Z",
     "start_time": "2023-12-25T11:28:41.131828300Z"
    }
   },
   "id": "e7009958f0df820"
  },
  {
   "cell_type": "code",
   "execution_count": 44,
   "outputs": [
    {
     "data": {
      "text/plain": "{'longitude': 'float64',\n 'latitude': 'float64',\n 'housing_median_age': 'float64',\n 'total_rooms': 'float64',\n 'total_bedrooms': 'float64',\n 'population': 'float64',\n 'households': 'float64',\n 'median_income': 'float64',\n 'median_house_value': 'float64',\n 'ocean_proximity': 'object',\n 'income_cat': 'category'}"
     },
     "execution_count": 44,
     "metadata": {},
     "output_type": "execute_result"
    }
   ],
   "source": [
    "dict(zip(column_names, data_types))"
   ],
   "metadata": {
    "collapsed": false,
    "ExecuteTime": {
     "end_time": "2023-12-25T11:28:41.348799500Z",
     "start_time": "2023-12-25T11:28:41.147853200Z"
    }
   },
   "id": "91f896b2f72ff831"
  },
  {
   "cell_type": "code",
   "execution_count": 45,
   "outputs": [],
   "source": [
    "train_file_path = r\"C:\\Users\\Param\\Python-Project\\CampusX\\GitHub\\Housing_Prediction_project\\housing\\artifact\\data_ingestion\\2023-12-24-15-42-13\\ingested_data\\train\\housing.csv\""
   ],
   "metadata": {
    "collapsed": false,
    "ExecuteTime": {
     "end_time": "2023-12-25T11:28:41.368616800Z",
     "start_time": "2023-12-25T11:28:41.163585500Z"
    }
   },
   "id": "71c83c9e0d99f322"
  },
  {
   "cell_type": "code",
   "execution_count": 46,
   "outputs": [],
   "source": [
    "import pandas as pd\n",
    "\n",
    "train_df = pd.read_csv(train_file_path)"
   ],
   "metadata": {
    "collapsed": false,
    "ExecuteTime": {
     "end_time": "2023-12-25T11:28:41.415419800Z",
     "start_time": "2023-12-25T11:28:41.179111100Z"
    }
   },
   "id": "6ca48a8ad38d9b41"
  },
  {
   "cell_type": "code",
   "execution_count": 47,
   "outputs": [
    {
     "data": {
      "text/plain": "   longitude  latitude  housing_median_age  total_rooms  total_bedrooms  \\\n0    -121.46     38.52                29.0       3873.0           797.0   \n1    -117.23     33.09                 7.0       5320.0           855.0   \n2    -119.04     35.37                44.0       1618.0           310.0   \n3    -117.13     32.75                24.0       1877.0           519.0   \n4    -118.70     34.28                27.0       3536.0           646.0   \n\n   population  households  median_income  median_house_value ocean_proximity  \n0      2237.0       706.0         2.1736             72100.0          INLAND  \n1      2015.0       768.0         6.3373            279600.0      NEAR OCEAN  \n2       667.0       300.0         2.8750             82700.0          INLAND  \n3       898.0       483.0         2.2264            112500.0      NEAR OCEAN  \n4      1837.0       580.0         4.4964            238300.0       <1H OCEAN  ",
      "text/html": "<div>\n<style scoped>\n    .dataframe tbody tr th:only-of-type {\n        vertical-align: middle;\n    }\n\n    .dataframe tbody tr th {\n        vertical-align: top;\n    }\n\n    .dataframe thead th {\n        text-align: right;\n    }\n</style>\n<table border=\"1\" class=\"dataframe\">\n  <thead>\n    <tr style=\"text-align: right;\">\n      <th></th>\n      <th>longitude</th>\n      <th>latitude</th>\n      <th>housing_median_age</th>\n      <th>total_rooms</th>\n      <th>total_bedrooms</th>\n      <th>population</th>\n      <th>households</th>\n      <th>median_income</th>\n      <th>median_house_value</th>\n      <th>ocean_proximity</th>\n    </tr>\n  </thead>\n  <tbody>\n    <tr>\n      <th>0</th>\n      <td>-121.46</td>\n      <td>38.52</td>\n      <td>29.0</td>\n      <td>3873.0</td>\n      <td>797.0</td>\n      <td>2237.0</td>\n      <td>706.0</td>\n      <td>2.1736</td>\n      <td>72100.0</td>\n      <td>INLAND</td>\n    </tr>\n    <tr>\n      <th>1</th>\n      <td>-117.23</td>\n      <td>33.09</td>\n      <td>7.0</td>\n      <td>5320.0</td>\n      <td>855.0</td>\n      <td>2015.0</td>\n      <td>768.0</td>\n      <td>6.3373</td>\n      <td>279600.0</td>\n      <td>NEAR OCEAN</td>\n    </tr>\n    <tr>\n      <th>2</th>\n      <td>-119.04</td>\n      <td>35.37</td>\n      <td>44.0</td>\n      <td>1618.0</td>\n      <td>310.0</td>\n      <td>667.0</td>\n      <td>300.0</td>\n      <td>2.8750</td>\n      <td>82700.0</td>\n      <td>INLAND</td>\n    </tr>\n    <tr>\n      <th>3</th>\n      <td>-117.13</td>\n      <td>32.75</td>\n      <td>24.0</td>\n      <td>1877.0</td>\n      <td>519.0</td>\n      <td>898.0</td>\n      <td>483.0</td>\n      <td>2.2264</td>\n      <td>112500.0</td>\n      <td>NEAR OCEAN</td>\n    </tr>\n    <tr>\n      <th>4</th>\n      <td>-118.70</td>\n      <td>34.28</td>\n      <td>27.0</td>\n      <td>3536.0</td>\n      <td>646.0</td>\n      <td>1837.0</td>\n      <td>580.0</td>\n      <td>4.4964</td>\n      <td>238300.0</td>\n      <td>&lt;1H OCEAN</td>\n    </tr>\n  </tbody>\n</table>\n</div>"
     },
     "execution_count": 47,
     "metadata": {},
     "output_type": "execute_result"
    }
   ],
   "source": [
    "train_df.head()"
   ],
   "metadata": {
    "collapsed": false,
    "ExecuteTime": {
     "end_time": "2023-12-25T11:28:41.419419600Z",
     "start_time": "2023-12-25T11:28:41.217306700Z"
    }
   },
   "id": "f822ef8bfa157e46"
  },
  {
   "cell_type": "code",
   "execution_count": 48,
   "outputs": [
    {
     "data": {
      "text/plain": "(16512, 10)"
     },
     "execution_count": 48,
     "metadata": {},
     "output_type": "execute_result"
    }
   ],
   "source": [
    "train_df.shape"
   ],
   "metadata": {
    "collapsed": false,
    "ExecuteTime": {
     "end_time": "2023-12-25T11:28:41.436554700Z",
     "start_time": "2023-12-25T11:28:41.226836800Z"
    }
   },
   "id": "6b45f33b0a014209"
  },
  {
   "cell_type": "code",
   "execution_count": 49,
   "outputs": [],
   "source": [
    "x, y = train_df.drop(columns=['median_house_value']), train_df['median_house_value']"
   ],
   "metadata": {
    "collapsed": false,
    "ExecuteTime": {
     "end_time": "2023-12-25T11:28:41.458764800Z",
     "start_time": "2023-12-25T11:28:41.241013300Z"
    }
   },
   "id": "f7a3c1ab7be0c1a9"
  },
  {
   "cell_type": "code",
   "execution_count": 50,
   "outputs": [
    {
     "data": {
      "text/plain": "       longitude  latitude  housing_median_age  total_rooms  total_bedrooms  \\\n0        -121.46     38.52                29.0       3873.0           797.0   \n1        -117.23     33.09                 7.0       5320.0           855.0   \n2        -119.04     35.37                44.0       1618.0           310.0   \n3        -117.13     32.75                24.0       1877.0           519.0   \n4        -118.70     34.28                27.0       3536.0           646.0   \n...          ...       ...                 ...          ...             ...   \n16507    -117.07     33.03                14.0       6665.0          1231.0   \n16508    -121.42     38.51                15.0       7901.0          1422.0   \n16509    -122.72     38.44                48.0        707.0           166.0   \n16510    -122.70     38.31                14.0       3155.0           580.0   \n16511    -122.14     39.97                27.0       1079.0           222.0   \n\n       population  households  median_income ocean_proximity  \n0          2237.0       706.0         2.1736          INLAND  \n1          2015.0       768.0         6.3373      NEAR OCEAN  \n2           667.0       300.0         2.8750          INLAND  \n3           898.0       483.0         2.2264      NEAR OCEAN  \n4          1837.0       580.0         4.4964       <1H OCEAN  \n...           ...         ...            ...             ...  \n16507      2026.0      1001.0         5.0900       <1H OCEAN  \n16508      4769.0      1418.0         2.8139          INLAND  \n16509       458.0       172.0         3.1797       <1H OCEAN  \n16510      1208.0       501.0         4.1964       <1H OCEAN  \n16511       625.0       197.0         3.1319          INLAND  \n\n[16512 rows x 9 columns]",
      "text/html": "<div>\n<style scoped>\n    .dataframe tbody tr th:only-of-type {\n        vertical-align: middle;\n    }\n\n    .dataframe tbody tr th {\n        vertical-align: top;\n    }\n\n    .dataframe thead th {\n        text-align: right;\n    }\n</style>\n<table border=\"1\" class=\"dataframe\">\n  <thead>\n    <tr style=\"text-align: right;\">\n      <th></th>\n      <th>longitude</th>\n      <th>latitude</th>\n      <th>housing_median_age</th>\n      <th>total_rooms</th>\n      <th>total_bedrooms</th>\n      <th>population</th>\n      <th>households</th>\n      <th>median_income</th>\n      <th>ocean_proximity</th>\n    </tr>\n  </thead>\n  <tbody>\n    <tr>\n      <th>0</th>\n      <td>-121.46</td>\n      <td>38.52</td>\n      <td>29.0</td>\n      <td>3873.0</td>\n      <td>797.0</td>\n      <td>2237.0</td>\n      <td>706.0</td>\n      <td>2.1736</td>\n      <td>INLAND</td>\n    </tr>\n    <tr>\n      <th>1</th>\n      <td>-117.23</td>\n      <td>33.09</td>\n      <td>7.0</td>\n      <td>5320.0</td>\n      <td>855.0</td>\n      <td>2015.0</td>\n      <td>768.0</td>\n      <td>6.3373</td>\n      <td>NEAR OCEAN</td>\n    </tr>\n    <tr>\n      <th>2</th>\n      <td>-119.04</td>\n      <td>35.37</td>\n      <td>44.0</td>\n      <td>1618.0</td>\n      <td>310.0</td>\n      <td>667.0</td>\n      <td>300.0</td>\n      <td>2.8750</td>\n      <td>INLAND</td>\n    </tr>\n    <tr>\n      <th>3</th>\n      <td>-117.13</td>\n      <td>32.75</td>\n      <td>24.0</td>\n      <td>1877.0</td>\n      <td>519.0</td>\n      <td>898.0</td>\n      <td>483.0</td>\n      <td>2.2264</td>\n      <td>NEAR OCEAN</td>\n    </tr>\n    <tr>\n      <th>4</th>\n      <td>-118.70</td>\n      <td>34.28</td>\n      <td>27.0</td>\n      <td>3536.0</td>\n      <td>646.0</td>\n      <td>1837.0</td>\n      <td>580.0</td>\n      <td>4.4964</td>\n      <td>&lt;1H OCEAN</td>\n    </tr>\n    <tr>\n      <th>...</th>\n      <td>...</td>\n      <td>...</td>\n      <td>...</td>\n      <td>...</td>\n      <td>...</td>\n      <td>...</td>\n      <td>...</td>\n      <td>...</td>\n      <td>...</td>\n    </tr>\n    <tr>\n      <th>16507</th>\n      <td>-117.07</td>\n      <td>33.03</td>\n      <td>14.0</td>\n      <td>6665.0</td>\n      <td>1231.0</td>\n      <td>2026.0</td>\n      <td>1001.0</td>\n      <td>5.0900</td>\n      <td>&lt;1H OCEAN</td>\n    </tr>\n    <tr>\n      <th>16508</th>\n      <td>-121.42</td>\n      <td>38.51</td>\n      <td>15.0</td>\n      <td>7901.0</td>\n      <td>1422.0</td>\n      <td>4769.0</td>\n      <td>1418.0</td>\n      <td>2.8139</td>\n      <td>INLAND</td>\n    </tr>\n    <tr>\n      <th>16509</th>\n      <td>-122.72</td>\n      <td>38.44</td>\n      <td>48.0</td>\n      <td>707.0</td>\n      <td>166.0</td>\n      <td>458.0</td>\n      <td>172.0</td>\n      <td>3.1797</td>\n      <td>&lt;1H OCEAN</td>\n    </tr>\n    <tr>\n      <th>16510</th>\n      <td>-122.70</td>\n      <td>38.31</td>\n      <td>14.0</td>\n      <td>3155.0</td>\n      <td>580.0</td>\n      <td>1208.0</td>\n      <td>501.0</td>\n      <td>4.1964</td>\n      <td>&lt;1H OCEAN</td>\n    </tr>\n    <tr>\n      <th>16511</th>\n      <td>-122.14</td>\n      <td>39.97</td>\n      <td>27.0</td>\n      <td>1079.0</td>\n      <td>222.0</td>\n      <td>625.0</td>\n      <td>197.0</td>\n      <td>3.1319</td>\n      <td>INLAND</td>\n    </tr>\n  </tbody>\n</table>\n<p>16512 rows × 9 columns</p>\n</div>"
     },
     "execution_count": 50,
     "metadata": {},
     "output_type": "execute_result"
    }
   ],
   "source": [
    "x"
   ],
   "metadata": {
    "collapsed": false,
    "ExecuteTime": {
     "end_time": "2023-12-25T11:28:41.477660100Z",
     "start_time": "2023-12-25T11:28:41.259012600Z"
    }
   },
   "id": "477e7aea4156f26d"
  },
  {
   "cell_type": "code",
   "execution_count": 51,
   "outputs": [
    {
     "data": {
      "text/plain": "0         72100.0\n1        279600.0\n2         82700.0\n3        112500.0\n4        238300.0\n           ...   \n16507    268500.0\n16508     90400.0\n16509    140400.0\n16510    258100.0\n16511     62700.0\nName: median_house_value, Length: 16512, dtype: float64"
     },
     "execution_count": 51,
     "metadata": {},
     "output_type": "execute_result"
    }
   ],
   "source": [
    "y"
   ],
   "metadata": {
    "collapsed": false,
    "ExecuteTime": {
     "end_time": "2023-12-25T11:28:41.493253700Z",
     "start_time": "2023-12-25T11:28:41.288095500Z"
    }
   },
   "id": "1d1ff62c268ccbc3"
  },
  {
   "cell_type": "code",
   "execution_count": 52,
   "outputs": [
    {
     "data": {
      "text/plain": "((16512, 9), (16512,))"
     },
     "execution_count": 52,
     "metadata": {},
     "output_type": "execute_result"
    }
   ],
   "source": [
    "x.shape, y.shape"
   ],
   "metadata": {
    "collapsed": false,
    "ExecuteTime": {
     "end_time": "2023-12-25T11:28:41.514075700Z",
     "start_time": "2023-12-25T11:28:41.302625200Z"
    }
   },
   "id": "d72f3f36d748174c"
  },
  {
   "cell_type": "code",
   "execution_count": 53,
   "outputs": [
    {
     "data": {
      "text/plain": "longitude               0\nlatitude                0\nhousing_median_age      0\ntotal_rooms             0\ntotal_bedrooms        158\npopulation              0\nhouseholds              0\nmedian_income           0\nocean_proximity         0\ndtype: int64"
     },
     "execution_count": 53,
     "metadata": {},
     "output_type": "execute_result"
    }
   ],
   "source": [
    "x.isnull().sum()"
   ],
   "metadata": {
    "collapsed": false,
    "ExecuteTime": {
     "end_time": "2023-12-25T11:28:41.533187500Z",
     "start_time": "2023-12-25T11:28:41.318969300Z"
    }
   },
   "id": "64c59e01e64dc652"
  },
  {
   "cell_type": "code",
   "execution_count": 54,
   "outputs": [],
   "source": [
    "from sklearn.impute import SimpleImputer\n",
    "\n",
    "simple_imputer = SimpleImputer(strategy='median')"
   ],
   "metadata": {
    "collapsed": false,
    "ExecuteTime": {
     "end_time": "2023-12-25T11:28:41.581480300Z",
     "start_time": "2023-12-25T11:28:41.336054300Z"
    }
   },
   "id": "a80f44c547c1618d"
  },
  {
   "cell_type": "code",
   "execution_count": 55,
   "outputs": [],
   "source": [
    "num_columns = train_df.select_dtypes(exclude=['object']).columns"
   ],
   "metadata": {
    "collapsed": false,
    "ExecuteTime": {
     "end_time": "2023-12-25T11:28:41.585068200Z",
     "start_time": "2023-12-25T11:28:41.396054Z"
    }
   },
   "id": "25fda52def24956a"
  },
  {
   "cell_type": "code",
   "execution_count": 56,
   "outputs": [
    {
     "data": {
      "text/plain": "Index(['longitude', 'latitude', 'housing_median_age', 'total_rooms',\n       'total_bedrooms', 'population', 'households', 'median_income',\n       'median_house_value'],\n      dtype='object')"
     },
     "execution_count": 56,
     "metadata": {},
     "output_type": "execute_result"
    }
   ],
   "source": [
    "num_columns"
   ],
   "metadata": {
    "collapsed": false,
    "ExecuteTime": {
     "end_time": "2023-12-25T11:28:41.712285800Z",
     "start_time": "2023-12-25T11:28:41.411406700Z"
    }
   },
   "id": "2973af84bec13a8e"
  },
  {
   "cell_type": "code",
   "execution_count": 57,
   "outputs": [],
   "source": [
    "num_col_df = train_df[num_columns]"
   ],
   "metadata": {
    "collapsed": false,
    "ExecuteTime": {
     "end_time": "2023-12-25T11:28:41.738828300Z",
     "start_time": "2023-12-25T11:28:41.428941900Z"
    }
   },
   "id": "116f157b345026a8"
  },
  {
   "cell_type": "code",
   "execution_count": 58,
   "outputs": [
    {
     "data": {
      "text/plain": "       longitude  latitude  housing_median_age  total_rooms  total_bedrooms  \\\n0        -121.46     38.52                29.0       3873.0           797.0   \n1        -117.23     33.09                 7.0       5320.0           855.0   \n2        -119.04     35.37                44.0       1618.0           310.0   \n3        -117.13     32.75                24.0       1877.0           519.0   \n4        -118.70     34.28                27.0       3536.0           646.0   \n...          ...       ...                 ...          ...             ...   \n16507    -117.07     33.03                14.0       6665.0          1231.0   \n16508    -121.42     38.51                15.0       7901.0          1422.0   \n16509    -122.72     38.44                48.0        707.0           166.0   \n16510    -122.70     38.31                14.0       3155.0           580.0   \n16511    -122.14     39.97                27.0       1079.0           222.0   \n\n       population  households  median_income  median_house_value  \n0          2237.0       706.0         2.1736             72100.0  \n1          2015.0       768.0         6.3373            279600.0  \n2           667.0       300.0         2.8750             82700.0  \n3           898.0       483.0         2.2264            112500.0  \n4          1837.0       580.0         4.4964            238300.0  \n...           ...         ...            ...                 ...  \n16507      2026.0      1001.0         5.0900            268500.0  \n16508      4769.0      1418.0         2.8139             90400.0  \n16509       458.0       172.0         3.1797            140400.0  \n16510      1208.0       501.0         4.1964            258100.0  \n16511       625.0       197.0         3.1319             62700.0  \n\n[16512 rows x 9 columns]",
      "text/html": "<div>\n<style scoped>\n    .dataframe tbody tr th:only-of-type {\n        vertical-align: middle;\n    }\n\n    .dataframe tbody tr th {\n        vertical-align: top;\n    }\n\n    .dataframe thead th {\n        text-align: right;\n    }\n</style>\n<table border=\"1\" class=\"dataframe\">\n  <thead>\n    <tr style=\"text-align: right;\">\n      <th></th>\n      <th>longitude</th>\n      <th>latitude</th>\n      <th>housing_median_age</th>\n      <th>total_rooms</th>\n      <th>total_bedrooms</th>\n      <th>population</th>\n      <th>households</th>\n      <th>median_income</th>\n      <th>median_house_value</th>\n    </tr>\n  </thead>\n  <tbody>\n    <tr>\n      <th>0</th>\n      <td>-121.46</td>\n      <td>38.52</td>\n      <td>29.0</td>\n      <td>3873.0</td>\n      <td>797.0</td>\n      <td>2237.0</td>\n      <td>706.0</td>\n      <td>2.1736</td>\n      <td>72100.0</td>\n    </tr>\n    <tr>\n      <th>1</th>\n      <td>-117.23</td>\n      <td>33.09</td>\n      <td>7.0</td>\n      <td>5320.0</td>\n      <td>855.0</td>\n      <td>2015.0</td>\n      <td>768.0</td>\n      <td>6.3373</td>\n      <td>279600.0</td>\n    </tr>\n    <tr>\n      <th>2</th>\n      <td>-119.04</td>\n      <td>35.37</td>\n      <td>44.0</td>\n      <td>1618.0</td>\n      <td>310.0</td>\n      <td>667.0</td>\n      <td>300.0</td>\n      <td>2.8750</td>\n      <td>82700.0</td>\n    </tr>\n    <tr>\n      <th>3</th>\n      <td>-117.13</td>\n      <td>32.75</td>\n      <td>24.0</td>\n      <td>1877.0</td>\n      <td>519.0</td>\n      <td>898.0</td>\n      <td>483.0</td>\n      <td>2.2264</td>\n      <td>112500.0</td>\n    </tr>\n    <tr>\n      <th>4</th>\n      <td>-118.70</td>\n      <td>34.28</td>\n      <td>27.0</td>\n      <td>3536.0</td>\n      <td>646.0</td>\n      <td>1837.0</td>\n      <td>580.0</td>\n      <td>4.4964</td>\n      <td>238300.0</td>\n    </tr>\n    <tr>\n      <th>...</th>\n      <td>...</td>\n      <td>...</td>\n      <td>...</td>\n      <td>...</td>\n      <td>...</td>\n      <td>...</td>\n      <td>...</td>\n      <td>...</td>\n      <td>...</td>\n    </tr>\n    <tr>\n      <th>16507</th>\n      <td>-117.07</td>\n      <td>33.03</td>\n      <td>14.0</td>\n      <td>6665.0</td>\n      <td>1231.0</td>\n      <td>2026.0</td>\n      <td>1001.0</td>\n      <td>5.0900</td>\n      <td>268500.0</td>\n    </tr>\n    <tr>\n      <th>16508</th>\n      <td>-121.42</td>\n      <td>38.51</td>\n      <td>15.0</td>\n      <td>7901.0</td>\n      <td>1422.0</td>\n      <td>4769.0</td>\n      <td>1418.0</td>\n      <td>2.8139</td>\n      <td>90400.0</td>\n    </tr>\n    <tr>\n      <th>16509</th>\n      <td>-122.72</td>\n      <td>38.44</td>\n      <td>48.0</td>\n      <td>707.0</td>\n      <td>166.0</td>\n      <td>458.0</td>\n      <td>172.0</td>\n      <td>3.1797</td>\n      <td>140400.0</td>\n    </tr>\n    <tr>\n      <th>16510</th>\n      <td>-122.70</td>\n      <td>38.31</td>\n      <td>14.0</td>\n      <td>3155.0</td>\n      <td>580.0</td>\n      <td>1208.0</td>\n      <td>501.0</td>\n      <td>4.1964</td>\n      <td>258100.0</td>\n    </tr>\n    <tr>\n      <th>16511</th>\n      <td>-122.14</td>\n      <td>39.97</td>\n      <td>27.0</td>\n      <td>1079.0</td>\n      <td>222.0</td>\n      <td>625.0</td>\n      <td>197.0</td>\n      <td>3.1319</td>\n      <td>62700.0</td>\n    </tr>\n  </tbody>\n</table>\n<p>16512 rows × 9 columns</p>\n</div>"
     },
     "execution_count": 58,
     "metadata": {},
     "output_type": "execute_result"
    }
   ],
   "source": [
    "num_col_df"
   ],
   "metadata": {
    "collapsed": false,
    "ExecuteTime": {
     "end_time": "2023-12-25T11:28:41.750931400Z",
     "start_time": "2023-12-25T11:28:41.442557900Z"
    }
   },
   "id": "2ef9c10f7f71d4ab"
  },
  {
   "cell_type": "code",
   "execution_count": 59,
   "outputs": [],
   "source": [
    "df = simple_imputer.fit_transform(num_col_df)"
   ],
   "metadata": {
    "collapsed": false,
    "ExecuteTime": {
     "end_time": "2023-12-25T11:28:41.775937200Z",
     "start_time": "2023-12-25T11:28:41.458601600Z"
    }
   },
   "id": "a39079c6d45d2606"
  },
  {
   "cell_type": "code",
   "execution_count": 60,
   "outputs": [
    {
     "data": {
      "text/plain": "array([[-1.2146e+02,  3.8520e+01,  2.9000e+01, ...,  7.0600e+02,\n         2.1736e+00,  7.2100e+04],\n       [-1.1723e+02,  3.3090e+01,  7.0000e+00, ...,  7.6800e+02,\n         6.3373e+00,  2.7960e+05],\n       [-1.1904e+02,  3.5370e+01,  4.4000e+01, ...,  3.0000e+02,\n         2.8750e+00,  8.2700e+04],\n       ...,\n       [-1.2272e+02,  3.8440e+01,  4.8000e+01, ...,  1.7200e+02,\n         3.1797e+00,  1.4040e+05],\n       [-1.2270e+02,  3.8310e+01,  1.4000e+01, ...,  5.0100e+02,\n         4.1964e+00,  2.5810e+05],\n       [-1.2214e+02,  3.9970e+01,  2.7000e+01, ...,  1.9700e+02,\n         3.1319e+00,  6.2700e+04]])"
     },
     "execution_count": 60,
     "metadata": {},
     "output_type": "execute_result"
    }
   ],
   "source": [
    "df"
   ],
   "metadata": {
    "collapsed": false,
    "ExecuteTime": {
     "end_time": "2023-12-25T11:28:41.816268600Z",
     "start_time": "2023-12-25T11:28:41.490253700Z"
    }
   },
   "id": "602e4b95ede2e3b"
  },
  {
   "cell_type": "code",
   "execution_count": 61,
   "outputs": [
    {
     "data": {
      "text/plain": "array([[-1.2146e+02,  3.8520e+01,  2.9000e+01, ...,  7.0600e+02,\n         2.1736e+00,  7.2100e+04],\n       [-1.1723e+02,  3.3090e+01,  7.0000e+00, ...,  7.6800e+02,\n         6.3373e+00,  2.7960e+05],\n       [-1.1904e+02,  3.5370e+01,  4.4000e+01, ...,  3.0000e+02,\n         2.8750e+00,  8.2700e+04],\n       ...,\n       [-1.2272e+02,  3.8440e+01,  4.8000e+01, ...,  1.7200e+02,\n         3.1797e+00,  1.4040e+05],\n       [-1.2270e+02,  3.8310e+01,  1.4000e+01, ...,  5.0100e+02,\n         4.1964e+00,  2.5810e+05],\n       [-1.2214e+02,  3.9970e+01,  2.7000e+01, ...,  1.9700e+02,\n         3.1319e+00,  6.2700e+04]])"
     },
     "execution_count": 61,
     "metadata": {},
     "output_type": "execute_result"
    }
   ],
   "source": [
    "simple_imputer.transform(num_col_df)"
   ],
   "metadata": {
    "collapsed": false,
    "ExecuteTime": {
     "end_time": "2023-12-25T11:28:41.828990Z",
     "start_time": "2023-12-25T11:28:41.504830Z"
    }
   },
   "id": "f401cfd9e24d7b60"
  },
  {
   "cell_type": "code",
   "execution_count": 62,
   "outputs": [
    {
     "data": {
      "text/plain": "array(['longitude', 'latitude', 'housing_median_age', 'total_rooms',\n       'total_bedrooms', 'population', 'households', 'median_income',\n       'median_house_value'], dtype=object)"
     },
     "execution_count": 62,
     "metadata": {},
     "output_type": "execute_result"
    }
   ],
   "source": [
    "simple_imputer.feature_names_in_"
   ],
   "metadata": {
    "collapsed": false,
    "ExecuteTime": {
     "end_time": "2023-12-25T11:28:41.858155400Z",
     "start_time": "2023-12-25T11:28:41.521952600Z"
    }
   },
   "id": "c0a80d3ba5207b0"
  },
  {
   "cell_type": "code",
   "execution_count": 63,
   "outputs": [
    {
     "data": {
      "text/plain": "(-118.51, 34.26)"
     },
     "execution_count": 63,
     "metadata": {},
     "output_type": "execute_result"
    }
   ],
   "source": [
    "train_df['longitude'].median(), train_df['latitude'].median()"
   ],
   "metadata": {
    "collapsed": false,
    "ExecuteTime": {
     "end_time": "2023-12-25T11:28:41.861142400Z",
     "start_time": "2023-12-25T11:28:41.538570500Z"
    }
   },
   "id": "e59e29e58701139b"
  },
  {
   "cell_type": "code",
   "execution_count": 64,
   "outputs": [
    {
     "data": {
      "text/plain": "array([-1.18510e+02,  3.42600e+01,  2.90000e+01,  2.11900e+03,\n        4.33000e+02,  1.16400e+03,  4.08000e+02,  3.54155e+00,\n        1.79500e+05])"
     },
     "execution_count": 64,
     "metadata": {},
     "output_type": "execute_result"
    }
   ],
   "source": [
    "simple_imputer.statistics_"
   ],
   "metadata": {
    "collapsed": false,
    "ExecuteTime": {
     "end_time": "2023-12-25T11:28:42.097733900Z",
     "start_time": "2023-12-25T11:28:41.833253100Z"
    }
   },
   "id": "451ac827e9141355"
  },
  {
   "cell_type": "code",
   "execution_count": 65,
   "outputs": [
    {
     "data": {
      "text/plain": "       longitude  latitude  housing_median_age  total_rooms  total_bedrooms  \\\n0        -121.46     38.52                29.0       3873.0           797.0   \n1        -117.23     33.09                 7.0       5320.0           855.0   \n2        -119.04     35.37                44.0       1618.0           310.0   \n3        -117.13     32.75                24.0       1877.0           519.0   \n4        -118.70     34.28                27.0       3536.0           646.0   \n...          ...       ...                 ...          ...             ...   \n16507    -117.07     33.03                14.0       6665.0          1231.0   \n16508    -121.42     38.51                15.0       7901.0          1422.0   \n16509    -122.72     38.44                48.0        707.0           166.0   \n16510    -122.70     38.31                14.0       3155.0           580.0   \n16511    -122.14     39.97                27.0       1079.0           222.0   \n\n       population  households  median_income  median_house_value  \n0          2237.0       706.0         2.1736             72100.0  \n1          2015.0       768.0         6.3373            279600.0  \n2           667.0       300.0         2.8750             82700.0  \n3           898.0       483.0         2.2264            112500.0  \n4          1837.0       580.0         4.4964            238300.0  \n...           ...         ...            ...                 ...  \n16507      2026.0      1001.0         5.0900            268500.0  \n16508      4769.0      1418.0         2.8139             90400.0  \n16509       458.0       172.0         3.1797            140400.0  \n16510      1208.0       501.0         4.1964            258100.0  \n16511       625.0       197.0         3.1319             62700.0  \n\n[16512 rows x 9 columns]",
      "text/html": "<div>\n<style scoped>\n    .dataframe tbody tr th:only-of-type {\n        vertical-align: middle;\n    }\n\n    .dataframe tbody tr th {\n        vertical-align: top;\n    }\n\n    .dataframe thead th {\n        text-align: right;\n    }\n</style>\n<table border=\"1\" class=\"dataframe\">\n  <thead>\n    <tr style=\"text-align: right;\">\n      <th></th>\n      <th>longitude</th>\n      <th>latitude</th>\n      <th>housing_median_age</th>\n      <th>total_rooms</th>\n      <th>total_bedrooms</th>\n      <th>population</th>\n      <th>households</th>\n      <th>median_income</th>\n      <th>median_house_value</th>\n    </tr>\n  </thead>\n  <tbody>\n    <tr>\n      <th>0</th>\n      <td>-121.46</td>\n      <td>38.52</td>\n      <td>29.0</td>\n      <td>3873.0</td>\n      <td>797.0</td>\n      <td>2237.0</td>\n      <td>706.0</td>\n      <td>2.1736</td>\n      <td>72100.0</td>\n    </tr>\n    <tr>\n      <th>1</th>\n      <td>-117.23</td>\n      <td>33.09</td>\n      <td>7.0</td>\n      <td>5320.0</td>\n      <td>855.0</td>\n      <td>2015.0</td>\n      <td>768.0</td>\n      <td>6.3373</td>\n      <td>279600.0</td>\n    </tr>\n    <tr>\n      <th>2</th>\n      <td>-119.04</td>\n      <td>35.37</td>\n      <td>44.0</td>\n      <td>1618.0</td>\n      <td>310.0</td>\n      <td>667.0</td>\n      <td>300.0</td>\n      <td>2.8750</td>\n      <td>82700.0</td>\n    </tr>\n    <tr>\n      <th>3</th>\n      <td>-117.13</td>\n      <td>32.75</td>\n      <td>24.0</td>\n      <td>1877.0</td>\n      <td>519.0</td>\n      <td>898.0</td>\n      <td>483.0</td>\n      <td>2.2264</td>\n      <td>112500.0</td>\n    </tr>\n    <tr>\n      <th>4</th>\n      <td>-118.70</td>\n      <td>34.28</td>\n      <td>27.0</td>\n      <td>3536.0</td>\n      <td>646.0</td>\n      <td>1837.0</td>\n      <td>580.0</td>\n      <td>4.4964</td>\n      <td>238300.0</td>\n    </tr>\n    <tr>\n      <th>...</th>\n      <td>...</td>\n      <td>...</td>\n      <td>...</td>\n      <td>...</td>\n      <td>...</td>\n      <td>...</td>\n      <td>...</td>\n      <td>...</td>\n      <td>...</td>\n    </tr>\n    <tr>\n      <th>16507</th>\n      <td>-117.07</td>\n      <td>33.03</td>\n      <td>14.0</td>\n      <td>6665.0</td>\n      <td>1231.0</td>\n      <td>2026.0</td>\n      <td>1001.0</td>\n      <td>5.0900</td>\n      <td>268500.0</td>\n    </tr>\n    <tr>\n      <th>16508</th>\n      <td>-121.42</td>\n      <td>38.51</td>\n      <td>15.0</td>\n      <td>7901.0</td>\n      <td>1422.0</td>\n      <td>4769.0</td>\n      <td>1418.0</td>\n      <td>2.8139</td>\n      <td>90400.0</td>\n    </tr>\n    <tr>\n      <th>16509</th>\n      <td>-122.72</td>\n      <td>38.44</td>\n      <td>48.0</td>\n      <td>707.0</td>\n      <td>166.0</td>\n      <td>458.0</td>\n      <td>172.0</td>\n      <td>3.1797</td>\n      <td>140400.0</td>\n    </tr>\n    <tr>\n      <th>16510</th>\n      <td>-122.70</td>\n      <td>38.31</td>\n      <td>14.0</td>\n      <td>3155.0</td>\n      <td>580.0</td>\n      <td>1208.0</td>\n      <td>501.0</td>\n      <td>4.1964</td>\n      <td>258100.0</td>\n    </tr>\n    <tr>\n      <th>16511</th>\n      <td>-122.14</td>\n      <td>39.97</td>\n      <td>27.0</td>\n      <td>1079.0</td>\n      <td>222.0</td>\n      <td>625.0</td>\n      <td>197.0</td>\n      <td>3.1319</td>\n      <td>62700.0</td>\n    </tr>\n  </tbody>\n</table>\n<p>16512 rows × 9 columns</p>\n</div>"
     },
     "execution_count": 65,
     "metadata": {},
     "output_type": "execute_result"
    }
   ],
   "source": [
    "imputed_num_df = pd.DataFrame(df, columns=simple_imputer.feature_names_in_)\n",
    "imputed_num_df"
   ],
   "metadata": {
    "collapsed": false,
    "ExecuteTime": {
     "end_time": "2023-12-25T11:28:42.237722600Z",
     "start_time": "2023-12-25T11:28:42.085994200Z"
    }
   },
   "id": "6ddf3d89c0b62c1e"
  },
  {
   "cell_type": "code",
   "execution_count": 66,
   "outputs": [
    {
     "data": {
      "text/plain": "Index(['ocean_proximity'], dtype='object')"
     },
     "execution_count": 66,
     "metadata": {},
     "output_type": "execute_result"
    }
   ],
   "source": [
    "cat_col = train_df.select_dtypes(include=['object']).columns\n",
    "cat_col"
   ],
   "metadata": {
    "collapsed": false,
    "ExecuteTime": {
     "end_time": "2023-12-25T11:28:42.346874200Z",
     "start_time": "2023-12-25T11:28:42.217964900Z"
    }
   },
   "id": "4004a1ae84e1382b"
  },
  {
   "cell_type": "code",
   "execution_count": 67,
   "outputs": [
    {
     "data": {
      "text/plain": "      ocean_proximity\n0              INLAND\n1          NEAR OCEAN\n2              INLAND\n3          NEAR OCEAN\n4           <1H OCEAN\n...               ...\n16507       <1H OCEAN\n16508          INLAND\n16509       <1H OCEAN\n16510       <1H OCEAN\n16511          INLAND\n\n[16512 rows x 1 columns]",
      "text/html": "<div>\n<style scoped>\n    .dataframe tbody tr th:only-of-type {\n        vertical-align: middle;\n    }\n\n    .dataframe tbody tr th {\n        vertical-align: top;\n    }\n\n    .dataframe thead th {\n        text-align: right;\n    }\n</style>\n<table border=\"1\" class=\"dataframe\">\n  <thead>\n    <tr style=\"text-align: right;\">\n      <th></th>\n      <th>ocean_proximity</th>\n    </tr>\n  </thead>\n  <tbody>\n    <tr>\n      <th>0</th>\n      <td>INLAND</td>\n    </tr>\n    <tr>\n      <th>1</th>\n      <td>NEAR OCEAN</td>\n    </tr>\n    <tr>\n      <th>2</th>\n      <td>INLAND</td>\n    </tr>\n    <tr>\n      <th>3</th>\n      <td>NEAR OCEAN</td>\n    </tr>\n    <tr>\n      <th>4</th>\n      <td>&lt;1H OCEAN</td>\n    </tr>\n    <tr>\n      <th>...</th>\n      <td>...</td>\n    </tr>\n    <tr>\n      <th>16507</th>\n      <td>&lt;1H OCEAN</td>\n    </tr>\n    <tr>\n      <th>16508</th>\n      <td>INLAND</td>\n    </tr>\n    <tr>\n      <th>16509</th>\n      <td>&lt;1H OCEAN</td>\n    </tr>\n    <tr>\n      <th>16510</th>\n      <td>&lt;1H OCEAN</td>\n    </tr>\n    <tr>\n      <th>16511</th>\n      <td>INLAND</td>\n    </tr>\n  </tbody>\n</table>\n<p>16512 rows × 1 columns</p>\n</div>"
     },
     "execution_count": 67,
     "metadata": {},
     "output_type": "execute_result"
    }
   ],
   "source": [
    "cat_col_df = train_df[cat_col]\n",
    "cat_col_df"
   ],
   "metadata": {
    "collapsed": false,
    "ExecuteTime": {
     "end_time": "2023-12-25T11:28:42.412816300Z",
     "start_time": "2023-12-25T11:28:42.320691100Z"
    }
   },
   "id": "2443015c9287108a"
  },
  {
   "cell_type": "code",
   "execution_count": 68,
   "outputs": [],
   "source": [
    "cat_simple_imputer = SimpleImputer(strategy='most_frequent')"
   ],
   "metadata": {
    "collapsed": false,
    "ExecuteTime": {
     "end_time": "2023-12-25T11:28:42.550834900Z",
     "start_time": "2023-12-25T11:28:42.412816300Z"
    }
   },
   "id": "de5c001fee351fc6"
  },
  {
   "cell_type": "code",
   "execution_count": 69,
   "outputs": [
    {
     "data": {
      "text/plain": "array([['INLAND'],\n       ['NEAR OCEAN'],\n       ['INLAND'],\n       ...,\n       ['<1H OCEAN'],\n       ['<1H OCEAN'],\n       ['INLAND']], dtype=object)"
     },
     "execution_count": 69,
     "metadata": {},
     "output_type": "execute_result"
    }
   ],
   "source": [
    "df_cat = cat_simple_imputer.fit_transform(cat_col_df)\n",
    "df_cat"
   ],
   "metadata": {
    "collapsed": false,
    "ExecuteTime": {
     "end_time": "2023-12-25T11:28:42.636323800Z",
     "start_time": "2023-12-25T11:28:42.530190900Z"
    }
   },
   "id": "2adae14dc722c7f7"
  },
  {
   "cell_type": "code",
   "execution_count": 70,
   "outputs": [
    {
     "data": {
      "text/plain": "ocean_proximity\n<1H OCEAN     7277\nINLAND        5262\nNEAR OCEAN    2124\nNEAR BAY      1847\nISLAND           2\nName: count, dtype: int64"
     },
     "execution_count": 70,
     "metadata": {},
     "output_type": "execute_result"
    }
   ],
   "source": [
    "train_df.ocean_proximity.value_counts()"
   ],
   "metadata": {
    "collapsed": false,
    "ExecuteTime": {
     "end_time": "2023-12-25T11:28:42.721030200Z",
     "start_time": "2023-12-25T11:28:42.595493100Z"
    }
   },
   "id": "1817a6a73892778e"
  },
  {
   "cell_type": "code",
   "execution_count": 71,
   "outputs": [
    {
     "data": {
      "text/plain": "array(['<1H OCEAN'], dtype=object)"
     },
     "execution_count": 71,
     "metadata": {},
     "output_type": "execute_result"
    }
   ],
   "source": [
    "cat_simple_imputer.statistics_"
   ],
   "metadata": {
    "collapsed": false,
    "ExecuteTime": {
     "end_time": "2023-12-25T11:28:42.818114100Z",
     "start_time": "2023-12-25T11:28:42.703136200Z"
    }
   },
   "id": "b057bb931465babd"
  },
  {
   "cell_type": "code",
   "execution_count": 72,
   "outputs": [],
   "source": [
    "from sklearn.base import BaseEstimator, TransformerMixin\n",
    "\n",
    "\n",
    "class CustomGenerator(BaseEstimator, TransformerMixin):\n",
    "\tdef __init__(self, strategy='median'):\n",
    "\t\tself.statistics_ = None\n",
    "\t\tself.features_ = None\n",
    "\t\tself.strategy = strategy\n",
    "\n",
    "\tdef fit(self, x_train):\n",
    "\t\tself.statistics_ = []\n",
    "\t\tself.features_ = x_train.columns\n",
    "\t\tfor col in x.columns:\n",
    "\t\t\tself.statistics_.append(x_train[col].median())\n",
    "\n",
    "\tdef transform(self, x_df: pd.DataFrame):\n",
    "\t\tfor idx, col in enumerate(x_df.columns):\n",
    "\t\t\tx_df[col] = x_df[col].fillna(self.statistics_[idx])\n",
    "\t\treturn x_df\n",
    "\n",
    "# def fit_transform(self, x_df):\n",
    "# \tself.fit(x_df)\n",
    "# \treturn self.transform(x_df)\n"
   ],
   "metadata": {
    "collapsed": false,
    "ExecuteTime": {
     "end_time": "2023-12-25T11:28:42.863116800Z",
     "start_time": "2023-12-25T11:28:42.790845900Z"
    }
   },
   "id": "39053aa15ec4a079"
  },
  {
   "cell_type": "code",
   "execution_count": 73,
   "outputs": [],
   "source": [
    "import sys\n",
    "from sklearn.base import BaseEstimator, TransformerMixin\n",
    "from housing.exception import HousingException\n",
    "\n",
    "\n",
    "class FeatureGenerator(BaseEstimator, TransformerMixin):\n",
    "\n",
    "\tdef __init__(\n",
    "\t\t\tself, add_bedrooms_per_room=True,\n",
    "\t\t\ttotal_rooms_ix=3,\n",
    "\t\t\tpopulation_ix=5,\n",
    "\t\t\thousehold_ix=6,\n",
    "\t\t\ttotal_bedrooms_ix=4,\n",
    "\t\t\tcolumns=None\n",
    "\t):\n",
    "\t\ttry:\n",
    "\t\t\tself.columns = columns\n",
    "\t\t\tif self.columns is not None:\n",
    "\t\t\t\ttotal_rooms_ix = self.columns.index(COLUMN_TOTAL_ROOMS)\n",
    "\t\t\t\tpopulation_ix = self.columns.index(COLUMN_POPULATION)\n",
    "\t\t\t\thousehold_ix = self.columns.index(COLUMN_HOUSEHOLDS)\n",
    "\t\t\t\ttotal_bedrooms_ix = self.columns.index(COLUMN_TOTAL_BEDROOM)\n",
    "\t\t\tself.add_bedrooms_per_room = add_bedrooms_per_room\n",
    "\t\t\tself.total_rooms_ix = total_rooms_ix\n",
    "\t\t\tself.population_ix = population_ix\n",
    "\t\t\tself.household_ix = household_ix\n",
    "\t\t\tself.total_bedrooms_ix = total_bedrooms_ix\n",
    "\n",
    "\t\texcept Exception as e:\n",
    "\t\t\traise HousingException(e, sys)\n",
    "\n",
    "\tdef fit(self, x, y=None):\n",
    "\t\treturn self\n",
    "\n",
    "\tdef transform(self, x, y=None):\n",
    "\t\ttry:\n",
    "\t\t\troom_per_household = x[:, self.total_rooms_ix] / x[:, self.household_ix]\n",
    "\t\t\tpopulation_per_household = x[:, self.population_ix] / x[:, self.household_ix]\n",
    "\n",
    "\t\t\tif self.add_bedrooms_per_room:\n",
    "\t\t\t\tbedrooms_per_room = x[:, self.total_bedrooms_ix] / x[:, self.total_rooms_ix]\n",
    "\t\t\t\tgenerated_feature = np.c_[x, room_per_household, population_per_household, bedrooms_per_room]\n",
    "\t\t\telse:\n",
    "\t\t\t\tgenerated_feature = np.c_[x, room_per_household, population_per_household]\n",
    "\t\t\treturn generated_feature\n",
    "\t\texcept Exception as e:\n",
    "\t\t\traise HousingException(e, sys)"
   ],
   "metadata": {
    "collapsed": false,
    "ExecuteTime": {
     "end_time": "2023-12-25T11:28:42.932217100Z",
     "start_time": "2023-12-25T11:28:42.860096400Z"
    }
   },
   "id": "aa791202be192755"
  },
  {
   "cell_type": "code",
   "execution_count": 74,
   "outputs": [
    {
     "data": {
      "text/plain": "Index(['longitude', 'latitude', 'housing_median_age', 'total_rooms',\n       'total_bedrooms', 'population', 'households', 'median_income',\n       'median_house_value', 'ocean_proximity'],\n      dtype='object')"
     },
     "execution_count": 74,
     "metadata": {},
     "output_type": "execute_result"
    }
   ],
   "source": [
    "train_df.columns"
   ],
   "metadata": {
    "collapsed": false,
    "ExecuteTime": {
     "end_time": "2023-12-25T11:28:42.982940900Z",
     "start_time": "2023-12-25T11:28:42.921897800Z"
    }
   },
   "id": "6abe43f599b8f697"
  },
  {
   "cell_type": "code",
   "execution_count": 75,
   "outputs": [
    {
     "data": {
      "text/plain": "0        3873.0\n1        5320.0\n2        1618.0\n3        1877.0\n4        3536.0\n          ...  \n16507    6665.0\n16508    7901.0\n16509     707.0\n16510    3155.0\n16511    1079.0\nName: total_rooms, Length: 16512, dtype: float64"
     },
     "execution_count": 75,
     "metadata": {},
     "output_type": "execute_result"
    }
   ],
   "source": [
    "train_df.loc[:, 'total_rooms']"
   ],
   "metadata": {
    "collapsed": false,
    "ExecuteTime": {
     "end_time": "2023-12-25T11:28:43.049276400Z",
     "start_time": "2023-12-25T11:28:42.974936900Z"
    }
   },
   "id": "30fd513cc558df62"
  },
  {
   "cell_type": "code",
   "execution_count": 76,
   "outputs": [],
   "source": [
    "copy_df = train_df.copy()\n",
    "copy_df['bedrooms_per_room_1'] = train_df.loc[:, 'total_bedrooms'] / train_df.loc[:, 'total_rooms']"
   ],
   "metadata": {
    "collapsed": false,
    "ExecuteTime": {
     "end_time": "2023-12-25T11:28:43.081956100Z",
     "start_time": "2023-12-25T11:28:43.029072900Z"
    }
   },
   "id": "88a754e140d9c6c9"
  },
  {
   "cell_type": "code",
   "execution_count": 77,
   "outputs": [
    {
     "data": {
      "text/plain": "       longitude  latitude  housing_median_age  total_rooms  total_bedrooms  \\\n0        -121.46     38.52                29.0       3873.0           797.0   \n1        -117.23     33.09                 7.0       5320.0           855.0   \n2        -119.04     35.37                44.0       1618.0           310.0   \n3        -117.13     32.75                24.0       1877.0           519.0   \n4        -118.70     34.28                27.0       3536.0           646.0   \n...          ...       ...                 ...          ...             ...   \n16507    -117.07     33.03                14.0       6665.0          1231.0   \n16508    -121.42     38.51                15.0       7901.0          1422.0   \n16509    -122.72     38.44                48.0        707.0           166.0   \n16510    -122.70     38.31                14.0       3155.0           580.0   \n16511    -122.14     39.97                27.0       1079.0           222.0   \n\n       population  households  median_income  median_house_value  \\\n0          2237.0       706.0         2.1736             72100.0   \n1          2015.0       768.0         6.3373            279600.0   \n2           667.0       300.0         2.8750             82700.0   \n3           898.0       483.0         2.2264            112500.0   \n4          1837.0       580.0         4.4964            238300.0   \n...           ...         ...            ...                 ...   \n16507      2026.0      1001.0         5.0900            268500.0   \n16508      4769.0      1418.0         2.8139             90400.0   \n16509       458.0       172.0         3.1797            140400.0   \n16510      1208.0       501.0         4.1964            258100.0   \n16511       625.0       197.0         3.1319             62700.0   \n\n      ocean_proximity  bedrooms_per_room_1  \n0              INLAND             0.205784  \n1          NEAR OCEAN             0.160714  \n2              INLAND             0.191595  \n3          NEAR OCEAN             0.276505  \n4           <1H OCEAN             0.182692  \n...               ...                  ...  \n16507       <1H OCEAN             0.184696  \n16508          INLAND             0.179977  \n16509       <1H OCEAN             0.234795  \n16510       <1H OCEAN             0.183835  \n16511          INLAND             0.205746  \n\n[16512 rows x 11 columns]",
      "text/html": "<div>\n<style scoped>\n    .dataframe tbody tr th:only-of-type {\n        vertical-align: middle;\n    }\n\n    .dataframe tbody tr th {\n        vertical-align: top;\n    }\n\n    .dataframe thead th {\n        text-align: right;\n    }\n</style>\n<table border=\"1\" class=\"dataframe\">\n  <thead>\n    <tr style=\"text-align: right;\">\n      <th></th>\n      <th>longitude</th>\n      <th>latitude</th>\n      <th>housing_median_age</th>\n      <th>total_rooms</th>\n      <th>total_bedrooms</th>\n      <th>population</th>\n      <th>households</th>\n      <th>median_income</th>\n      <th>median_house_value</th>\n      <th>ocean_proximity</th>\n      <th>bedrooms_per_room_1</th>\n    </tr>\n  </thead>\n  <tbody>\n    <tr>\n      <th>0</th>\n      <td>-121.46</td>\n      <td>38.52</td>\n      <td>29.0</td>\n      <td>3873.0</td>\n      <td>797.0</td>\n      <td>2237.0</td>\n      <td>706.0</td>\n      <td>2.1736</td>\n      <td>72100.0</td>\n      <td>INLAND</td>\n      <td>0.205784</td>\n    </tr>\n    <tr>\n      <th>1</th>\n      <td>-117.23</td>\n      <td>33.09</td>\n      <td>7.0</td>\n      <td>5320.0</td>\n      <td>855.0</td>\n      <td>2015.0</td>\n      <td>768.0</td>\n      <td>6.3373</td>\n      <td>279600.0</td>\n      <td>NEAR OCEAN</td>\n      <td>0.160714</td>\n    </tr>\n    <tr>\n      <th>2</th>\n      <td>-119.04</td>\n      <td>35.37</td>\n      <td>44.0</td>\n      <td>1618.0</td>\n      <td>310.0</td>\n      <td>667.0</td>\n      <td>300.0</td>\n      <td>2.8750</td>\n      <td>82700.0</td>\n      <td>INLAND</td>\n      <td>0.191595</td>\n    </tr>\n    <tr>\n      <th>3</th>\n      <td>-117.13</td>\n      <td>32.75</td>\n      <td>24.0</td>\n      <td>1877.0</td>\n      <td>519.0</td>\n      <td>898.0</td>\n      <td>483.0</td>\n      <td>2.2264</td>\n      <td>112500.0</td>\n      <td>NEAR OCEAN</td>\n      <td>0.276505</td>\n    </tr>\n    <tr>\n      <th>4</th>\n      <td>-118.70</td>\n      <td>34.28</td>\n      <td>27.0</td>\n      <td>3536.0</td>\n      <td>646.0</td>\n      <td>1837.0</td>\n      <td>580.0</td>\n      <td>4.4964</td>\n      <td>238300.0</td>\n      <td>&lt;1H OCEAN</td>\n      <td>0.182692</td>\n    </tr>\n    <tr>\n      <th>...</th>\n      <td>...</td>\n      <td>...</td>\n      <td>...</td>\n      <td>...</td>\n      <td>...</td>\n      <td>...</td>\n      <td>...</td>\n      <td>...</td>\n      <td>...</td>\n      <td>...</td>\n      <td>...</td>\n    </tr>\n    <tr>\n      <th>16507</th>\n      <td>-117.07</td>\n      <td>33.03</td>\n      <td>14.0</td>\n      <td>6665.0</td>\n      <td>1231.0</td>\n      <td>2026.0</td>\n      <td>1001.0</td>\n      <td>5.0900</td>\n      <td>268500.0</td>\n      <td>&lt;1H OCEAN</td>\n      <td>0.184696</td>\n    </tr>\n    <tr>\n      <th>16508</th>\n      <td>-121.42</td>\n      <td>38.51</td>\n      <td>15.0</td>\n      <td>7901.0</td>\n      <td>1422.0</td>\n      <td>4769.0</td>\n      <td>1418.0</td>\n      <td>2.8139</td>\n      <td>90400.0</td>\n      <td>INLAND</td>\n      <td>0.179977</td>\n    </tr>\n    <tr>\n      <th>16509</th>\n      <td>-122.72</td>\n      <td>38.44</td>\n      <td>48.0</td>\n      <td>707.0</td>\n      <td>166.0</td>\n      <td>458.0</td>\n      <td>172.0</td>\n      <td>3.1797</td>\n      <td>140400.0</td>\n      <td>&lt;1H OCEAN</td>\n      <td>0.234795</td>\n    </tr>\n    <tr>\n      <th>16510</th>\n      <td>-122.70</td>\n      <td>38.31</td>\n      <td>14.0</td>\n      <td>3155.0</td>\n      <td>580.0</td>\n      <td>1208.0</td>\n      <td>501.0</td>\n      <td>4.1964</td>\n      <td>258100.0</td>\n      <td>&lt;1H OCEAN</td>\n      <td>0.183835</td>\n    </tr>\n    <tr>\n      <th>16511</th>\n      <td>-122.14</td>\n      <td>39.97</td>\n      <td>27.0</td>\n      <td>1079.0</td>\n      <td>222.0</td>\n      <td>625.0</td>\n      <td>197.0</td>\n      <td>3.1319</td>\n      <td>62700.0</td>\n      <td>INLAND</td>\n      <td>0.205746</td>\n    </tr>\n  </tbody>\n</table>\n<p>16512 rows × 11 columns</p>\n</div>"
     },
     "execution_count": 77,
     "metadata": {},
     "output_type": "execute_result"
    }
   ],
   "source": [
    "copy_df"
   ],
   "metadata": {
    "collapsed": false,
    "ExecuteTime": {
     "end_time": "2023-12-25T11:28:43.138833500Z",
     "start_time": "2023-12-25T11:28:43.068057800Z"
    }
   },
   "id": "6621309fb3c99850"
  },
  {
   "cell_type": "code",
   "execution_count": 78,
   "outputs": [
    {
     "data": {
      "text/plain": "pandas.core.frame.DataFrame"
     },
     "execution_count": 78,
     "metadata": {},
     "output_type": "execute_result"
    }
   ],
   "source": [
    "type(train_df)"
   ],
   "metadata": {
    "collapsed": false,
    "ExecuteTime": {
     "end_time": "2023-12-25T11:28:43.193274100Z",
     "start_time": "2023-12-25T11:28:43.138833500Z"
    }
   },
   "id": "b15d2296f06f1e71"
  },
  {
   "cell_type": "code",
   "execution_count": 79,
   "outputs": [
    {
     "data": {
      "text/plain": "3"
     },
     "execution_count": 79,
     "metadata": {},
     "output_type": "execute_result"
    }
   ],
   "source": [
    "train_df.columns.get_loc('total_rooms')"
   ],
   "metadata": {
    "collapsed": false,
    "ExecuteTime": {
     "end_time": "2023-12-25T11:28:43.244241400Z",
     "start_time": "2023-12-25T11:28:43.172837700Z"
    }
   },
   "id": "4c2443070780d6bb"
  },
  {
   "cell_type": "code",
   "execution_count": 80,
   "outputs": [],
   "source": [
    "from sklearn.preprocessing import StandardScaler\n",
    "from sklearn.pipeline import Pipeline\n",
    "from sklearn.preprocessing import OneHotEncoder\n",
    "from sklearn.compose import ColumnTransformer\n",
    "\n",
    "num_pipeline = Pipeline(steps=[\n",
    "\t('imputer', SimpleImputer(strategy='median')),\n",
    "\t('feature_generator', FeatureGenerator()),\n",
    "\t('scaling', StandardScaler(with_mean=False))\n",
    "])"
   ],
   "metadata": {
    "collapsed": false,
    "ExecuteTime": {
     "end_time": "2023-12-25T11:28:43.288115Z",
     "start_time": "2023-12-25T11:28:43.222945400Z"
    }
   },
   "id": "f0557e82aa16f2d1"
  },
  {
   "cell_type": "code",
   "execution_count": 81,
   "outputs": [],
   "source": [
    "cat_pipeline = Pipeline(steps=[\n",
    "\t('imputer', SimpleImputer(strategy='most_frequent')),\n",
    "\t('oneHotEncoder', OneHotEncoder()),\n",
    "\t('scaling', StandardScaler(with_mean=False))\n",
    "])"
   ],
   "metadata": {
    "collapsed": false,
    "ExecuteTime": {
     "end_time": "2023-12-25T11:28:43.397264400Z",
     "start_time": "2023-12-25T11:28:43.289107200Z"
    }
   },
   "id": "e052f71a0c949ff1"
  },
  {
   "cell_type": "code",
   "execution_count": 82,
   "outputs": [
    {
     "data": {
      "text/plain": "Index(['longitude', 'latitude', 'housing_median_age', 'total_rooms',\n       'total_bedrooms', 'population', 'households', 'median_income',\n       'median_house_value', 'ocean_proximity'],\n      dtype='object')"
     },
     "execution_count": 82,
     "metadata": {},
     "output_type": "execute_result"
    }
   ],
   "source": [
    "train_df.columns"
   ],
   "metadata": {
    "collapsed": false,
    "ExecuteTime": {
     "end_time": "2023-12-25T11:28:43.466328400Z",
     "start_time": "2023-12-25T11:28:43.396265500Z"
    }
   },
   "id": "e64b2139dd772fb3"
  },
  {
   "cell_type": "code",
   "execution_count": 83,
   "outputs": [],
   "source": [
    "num_columns_name = ['longitude', 'latitude', 'housing_median_age', 'total_rooms',\n",
    "\t\t\t\t\t'total_bedrooms', 'population', 'households', 'median_income']\n",
    "cat_columns_name = ['ocean_proximity']"
   ],
   "metadata": {
    "collapsed": false,
    "ExecuteTime": {
     "end_time": "2023-12-25T11:28:43.516196600Z",
     "start_time": "2023-12-25T11:28:43.449073900Z"
    }
   },
   "id": "c5f4d081a7829265"
  },
  {
   "cell_type": "code",
   "execution_count": 84,
   "outputs": [
    {
     "data": {
      "text/plain": "['ocean_proximity']"
     },
     "execution_count": 84,
     "metadata": {},
     "output_type": "execute_result"
    }
   ],
   "source": [
    "cat_columns_name"
   ],
   "metadata": {
    "collapsed": false,
    "ExecuteTime": {
     "end_time": "2023-12-25T11:28:43.561022100Z",
     "start_time": "2023-12-25T11:28:43.516196600Z"
    }
   },
   "id": "e0c62715c0b29e46"
  },
  {
   "cell_type": "code",
   "execution_count": 85,
   "outputs": [],
   "source": [
    "import numpy as np\n",
    "\n",
    "preprocessing = ColumnTransformer([\n",
    "\t('num_pipeline', num_pipeline, num_columns_name),\n",
    "\t('cat_pipeline', cat_pipeline, cat_columns_name),\n",
    "])"
   ],
   "metadata": {
    "collapsed": false,
    "ExecuteTime": {
     "end_time": "2023-12-25T11:28:43.611533700Z",
     "start_time": "2023-12-25T11:28:43.551479500Z"
    }
   },
   "id": "97a42f7e67da703d"
  },
  {
   "cell_type": "code",
   "execution_count": 86,
   "outputs": [
    {
     "data": {
      "text/plain": "numpy.ndarray"
     },
     "execution_count": 86,
     "metadata": {},
     "output_type": "execute_result"
    }
   ],
   "source": [
    "transformed_train = preprocessing.fit_transform(train_df)\n",
    "type(transformed_train)"
   ],
   "metadata": {
    "collapsed": false,
    "ExecuteTime": {
     "end_time": "2023-12-25T11:28:43.665895500Z",
     "start_time": "2023-12-25T11:28:43.591351100Z"
    }
   },
   "id": "b071e82da1992e53"
  },
  {
   "cell_type": "code",
   "execution_count": 87,
   "outputs": [],
   "source": [
    "import dill\n",
    "\n",
    "with open('preprocessing.pkl', 'wb') as file:\n",
    "\tdill.dump(preprocessing, file)"
   ],
   "metadata": {
    "collapsed": false,
    "ExecuteTime": {
     "end_time": "2023-12-25T11:28:43.696307700Z",
     "start_time": "2023-12-25T11:28:43.627023600Z"
    }
   },
   "id": "770fb33c4f9e0532"
  },
  {
   "cell_type": "code",
   "execution_count": 88,
   "outputs": [],
   "source": [
    "test_file_path = r\"C:\\Users\\Param\\Python-Project\\CampusX\\GitHub\\Housing_Prediction_project\\housing\\artifact\\data_ingestion\\2023-12-24-15-42-13\\ingested_data\\test\\housing.csv\""
   ],
   "metadata": {
    "collapsed": false,
    "ExecuteTime": {
     "end_time": "2023-12-25T11:28:43.757836800Z",
     "start_time": "2023-12-25T11:28:43.685083900Z"
    }
   },
   "id": "f77780f5c8e2a4bd"
  },
  {
   "cell_type": "code",
   "execution_count": 89,
   "outputs": [
    {
     "data": {
      "text/plain": "   longitude  latitude  housing_median_age  total_rooms  total_bedrooms  \\\n0    -118.39     34.12                29.0       6447.0          1012.0   \n1    -120.42     34.89                24.0       2020.0           307.0   \n2    -118.45     34.25                36.0       1453.0           270.0   \n3    -118.10     33.91                35.0       1653.0           325.0   \n4    -117.07     32.77                38.0       3779.0           614.0   \n\n   population  households  median_income  median_house_value ocean_proximity  \n0      2184.0       960.0         8.2816            500001.0       <1H OCEAN  \n1       855.0       283.0         5.0099            162500.0       <1H OCEAN  \n2       808.0       275.0         4.3839            204600.0       <1H OCEAN  \n3      1072.0       301.0         3.2708            159700.0       <1H OCEAN  \n4      1495.0       614.0         4.3529            184000.0      NEAR OCEAN  ",
      "text/html": "<div>\n<style scoped>\n    .dataframe tbody tr th:only-of-type {\n        vertical-align: middle;\n    }\n\n    .dataframe tbody tr th {\n        vertical-align: top;\n    }\n\n    .dataframe thead th {\n        text-align: right;\n    }\n</style>\n<table border=\"1\" class=\"dataframe\">\n  <thead>\n    <tr style=\"text-align: right;\">\n      <th></th>\n      <th>longitude</th>\n      <th>latitude</th>\n      <th>housing_median_age</th>\n      <th>total_rooms</th>\n      <th>total_bedrooms</th>\n      <th>population</th>\n      <th>households</th>\n      <th>median_income</th>\n      <th>median_house_value</th>\n      <th>ocean_proximity</th>\n    </tr>\n  </thead>\n  <tbody>\n    <tr>\n      <th>0</th>\n      <td>-118.39</td>\n      <td>34.12</td>\n      <td>29.0</td>\n      <td>6447.0</td>\n      <td>1012.0</td>\n      <td>2184.0</td>\n      <td>960.0</td>\n      <td>8.2816</td>\n      <td>500001.0</td>\n      <td>&lt;1H OCEAN</td>\n    </tr>\n    <tr>\n      <th>1</th>\n      <td>-120.42</td>\n      <td>34.89</td>\n      <td>24.0</td>\n      <td>2020.0</td>\n      <td>307.0</td>\n      <td>855.0</td>\n      <td>283.0</td>\n      <td>5.0099</td>\n      <td>162500.0</td>\n      <td>&lt;1H OCEAN</td>\n    </tr>\n    <tr>\n      <th>2</th>\n      <td>-118.45</td>\n      <td>34.25</td>\n      <td>36.0</td>\n      <td>1453.0</td>\n      <td>270.0</td>\n      <td>808.0</td>\n      <td>275.0</td>\n      <td>4.3839</td>\n      <td>204600.0</td>\n      <td>&lt;1H OCEAN</td>\n    </tr>\n    <tr>\n      <th>3</th>\n      <td>-118.10</td>\n      <td>33.91</td>\n      <td>35.0</td>\n      <td>1653.0</td>\n      <td>325.0</td>\n      <td>1072.0</td>\n      <td>301.0</td>\n      <td>3.2708</td>\n      <td>159700.0</td>\n      <td>&lt;1H OCEAN</td>\n    </tr>\n    <tr>\n      <th>4</th>\n      <td>-117.07</td>\n      <td>32.77</td>\n      <td>38.0</td>\n      <td>3779.0</td>\n      <td>614.0</td>\n      <td>1495.0</td>\n      <td>614.0</td>\n      <td>4.3529</td>\n      <td>184000.0</td>\n      <td>NEAR OCEAN</td>\n    </tr>\n  </tbody>\n</table>\n</div>"
     },
     "execution_count": 89,
     "metadata": {},
     "output_type": "execute_result"
    }
   ],
   "source": [
    "test_df = pd.read_csv(test_file_path)\n",
    "test_df.head()"
   ],
   "metadata": {
    "collapsed": false,
    "ExecuteTime": {
     "end_time": "2023-12-25T11:28:43.778399700Z",
     "start_time": "2023-12-25T11:28:43.720469300Z"
    }
   },
   "id": "f92858d1dbc41d73"
  },
  {
   "cell_type": "code",
   "execution_count": 90,
   "outputs": [
    {
     "data": {
      "text/plain": "array([[-59.14273417,  15.95960092,   2.30626612, ...,   0.        ,\n          0.        ,   0.        ],\n       [-60.15683798,  16.31976777,   1.90863403, ...,   0.        ,\n          0.        ,   0.        ],\n       [-59.17270768,  16.02040831,   2.86295105, ...,   0.        ,\n          0.        ,   0.        ],\n       ...,\n       [-59.80714701,  16.10928065,   3.41963598, ...,   0.        ,\n          0.        ,   0.        ],\n       [-58.90294608,  15.73040384,   2.38579254, ...,   0.        ,\n          0.        ,   0.        ],\n       [-59.22765912,  15.99234336,   2.86295105, ...,   0.        ,\n          0.        ,   0.        ]])"
     },
     "execution_count": 90,
     "metadata": {},
     "output_type": "execute_result"
    }
   ],
   "source": [
    "preprocessing.transform(test_df)"
   ],
   "metadata": {
    "collapsed": false,
    "ExecuteTime": {
     "end_time": "2023-12-25T11:28:43.838344800Z",
     "start_time": "2023-12-25T11:28:43.777400200Z"
    }
   },
   "id": "4a99db5fc40a79ea"
  },
  {
   "cell_type": "code",
   "execution_count": 91,
   "outputs": [],
   "source": [
    "with open('preprocessing.pkl', 'rb') as file:\n",
    "\tpreprocessing_loaded_obj = dill.load(file)"
   ],
   "metadata": {
    "collapsed": false,
    "ExecuteTime": {
     "end_time": "2023-12-25T11:28:43.889415600Z",
     "start_time": "2023-12-25T11:28:43.810618200Z"
    }
   },
   "id": "807bcce39c6c49cf"
  },
  {
   "cell_type": "code",
   "execution_count": 92,
   "outputs": [
    {
     "data": {
      "text/plain": "array([[-59.14273417,  15.95960092,   2.30626612, ...,   0.        ,\n          0.        ,   0.        ],\n       [-60.15683798,  16.31976777,   1.90863403, ...,   0.        ,\n          0.        ,   0.        ],\n       [-59.17270768,  16.02040831,   2.86295105, ...,   0.        ,\n          0.        ,   0.        ],\n       ...,\n       [-59.80714701,  16.10928065,   3.41963598, ...,   0.        ,\n          0.        ,   0.        ],\n       [-58.90294608,  15.73040384,   2.38579254, ...,   0.        ,\n          0.        ,   0.        ],\n       [-59.22765912,  15.99234336,   2.86295105, ...,   0.        ,\n          0.        ,   0.        ]])"
     },
     "execution_count": 92,
     "metadata": {},
     "output_type": "execute_result"
    }
   ],
   "source": [
    "preprocessing_loaded_obj.transform(test_df)"
   ],
   "metadata": {
    "collapsed": false,
    "ExecuteTime": {
     "end_time": "2023-12-25T11:28:44.003082700Z",
     "start_time": "2023-12-25T11:28:43.863519500Z"
    }
   },
   "id": "f10bfccf0714a249"
  },
  {
   "cell_type": "code",
   "execution_count": 93,
   "outputs": [
    {
     "data": {
      "text/plain": "array(['longitude', 'latitude', 'housing_median_age', 'total_rooms',\n       'total_bedrooms', 'population', 'households', 'median_income',\n       'median_house_value', 'ocean_proximity'], dtype=object)"
     },
     "execution_count": 93,
     "metadata": {},
     "output_type": "execute_result"
    }
   ],
   "source": [
    "preprocessing.feature_names_in_"
   ],
   "metadata": {
    "collapsed": false,
    "ExecuteTime": {
     "end_time": "2023-12-25T11:28:44.147848900Z",
     "start_time": "2023-12-25T11:28:44.001578500Z"
    }
   },
   "id": "81149d682c993f34"
  },
  {
   "cell_type": "code",
   "execution_count": 94,
   "outputs": [],
   "source": [
    "from sklearn.linear_model import LinearRegression\n",
    "\n",
    "lr = LinearRegression()"
   ],
   "metadata": {
    "collapsed": false,
    "ExecuteTime": {
     "end_time": "2023-12-25T11:28:44.213484800Z",
     "start_time": "2023-12-25T11:28:44.110843600Z"
    }
   },
   "id": "12478d3e4d353917"
  },
  {
   "cell_type": "code",
   "execution_count": 95,
   "outputs": [
    {
     "data": {
      "text/plain": "(16512, 16)"
     },
     "execution_count": 95,
     "metadata": {},
     "output_type": "execute_result"
    }
   ],
   "source": [
    "transformed_train.shape"
   ],
   "metadata": {
    "collapsed": false,
    "ExecuteTime": {
     "end_time": "2023-12-25T11:28:44.354452Z",
     "start_time": "2023-12-25T11:28:44.195854900Z"
    }
   },
   "id": "b1dd771f3834940"
  },
  {
   "cell_type": "code",
   "execution_count": 96,
   "outputs": [],
   "source": [
    "x = transformed_train\n",
    "y = np.array(train_df.median_house_value)"
   ],
   "metadata": {
    "collapsed": false,
    "ExecuteTime": {
     "end_time": "2023-12-25T11:28:44.436123400Z",
     "start_time": "2023-12-25T11:28:44.330495400Z"
    }
   },
   "id": "15ecd9713123da08"
  },
  {
   "cell_type": "code",
   "execution_count": 97,
   "outputs": [
    {
     "data": {
      "text/plain": "LinearRegression()",
      "text/html": "<style>#sk-container-id-1 {color: black;}#sk-container-id-1 pre{padding: 0;}#sk-container-id-1 div.sk-toggleable {background-color: white;}#sk-container-id-1 label.sk-toggleable__label {cursor: pointer;display: block;width: 100%;margin-bottom: 0;padding: 0.3em;box-sizing: border-box;text-align: center;}#sk-container-id-1 label.sk-toggleable__label-arrow:before {content: \"▸\";float: left;margin-right: 0.25em;color: #696969;}#sk-container-id-1 label.sk-toggleable__label-arrow:hover:before {color: black;}#sk-container-id-1 div.sk-estimator:hover label.sk-toggleable__label-arrow:before {color: black;}#sk-container-id-1 div.sk-toggleable__content {max-height: 0;max-width: 0;overflow: hidden;text-align: left;background-color: #f0f8ff;}#sk-container-id-1 div.sk-toggleable__content pre {margin: 0.2em;color: black;border-radius: 0.25em;background-color: #f0f8ff;}#sk-container-id-1 input.sk-toggleable__control:checked~div.sk-toggleable__content {max-height: 200px;max-width: 100%;overflow: auto;}#sk-container-id-1 input.sk-toggleable__control:checked~label.sk-toggleable__label-arrow:before {content: \"▾\";}#sk-container-id-1 div.sk-estimator input.sk-toggleable__control:checked~label.sk-toggleable__label {background-color: #d4ebff;}#sk-container-id-1 div.sk-label input.sk-toggleable__control:checked~label.sk-toggleable__label {background-color: #d4ebff;}#sk-container-id-1 input.sk-hidden--visually {border: 0;clip: rect(1px 1px 1px 1px);clip: rect(1px, 1px, 1px, 1px);height: 1px;margin: -1px;overflow: hidden;padding: 0;position: absolute;width: 1px;}#sk-container-id-1 div.sk-estimator {font-family: monospace;background-color: #f0f8ff;border: 1px dotted black;border-radius: 0.25em;box-sizing: border-box;margin-bottom: 0.5em;}#sk-container-id-1 div.sk-estimator:hover {background-color: #d4ebff;}#sk-container-id-1 div.sk-parallel-item::after {content: \"\";width: 100%;border-bottom: 1px solid gray;flex-grow: 1;}#sk-container-id-1 div.sk-label:hover label.sk-toggleable__label {background-color: #d4ebff;}#sk-container-id-1 div.sk-serial::before {content: \"\";position: absolute;border-left: 1px solid gray;box-sizing: border-box;top: 0;bottom: 0;left: 50%;z-index: 0;}#sk-container-id-1 div.sk-serial {display: flex;flex-direction: column;align-items: center;background-color: white;padding-right: 0.2em;padding-left: 0.2em;position: relative;}#sk-container-id-1 div.sk-item {position: relative;z-index: 1;}#sk-container-id-1 div.sk-parallel {display: flex;align-items: stretch;justify-content: center;background-color: white;position: relative;}#sk-container-id-1 div.sk-item::before, #sk-container-id-1 div.sk-parallel-item::before {content: \"\";position: absolute;border-left: 1px solid gray;box-sizing: border-box;top: 0;bottom: 0;left: 50%;z-index: -1;}#sk-container-id-1 div.sk-parallel-item {display: flex;flex-direction: column;z-index: 1;position: relative;background-color: white;}#sk-container-id-1 div.sk-parallel-item:first-child::after {align-self: flex-end;width: 50%;}#sk-container-id-1 div.sk-parallel-item:last-child::after {align-self: flex-start;width: 50%;}#sk-container-id-1 div.sk-parallel-item:only-child::after {width: 0;}#sk-container-id-1 div.sk-dashed-wrapped {border: 1px dashed gray;margin: 0 0.4em 0.5em 0.4em;box-sizing: border-box;padding-bottom: 0.4em;background-color: white;}#sk-container-id-1 div.sk-label label {font-family: monospace;font-weight: bold;display: inline-block;line-height: 1.2em;}#sk-container-id-1 div.sk-label-container {text-align: center;}#sk-container-id-1 div.sk-container {/* jupyter's `normalize.less` sets `[hidden] { display: none; }` but bootstrap.min.css set `[hidden] { display: none !important; }` so we also need the `!important` here to be able to override the default hidden behavior on the sphinx rendered scikit-learn.org. See: https://github.com/scikit-learn/scikit-learn/issues/21755 */display: inline-block !important;position: relative;}#sk-container-id-1 div.sk-text-repr-fallback {display: none;}</style><div id=\"sk-container-id-1\" class=\"sk-top-container\"><div class=\"sk-text-repr-fallback\"><pre>LinearRegression()</pre><b>In a Jupyter environment, please rerun this cell to show the HTML representation or trust the notebook. <br />On GitHub, the HTML representation is unable to render, please try loading this page with nbviewer.org.</b></div><div class=\"sk-container\" hidden><div class=\"sk-item\"><div class=\"sk-estimator sk-toggleable\"><input class=\"sk-toggleable__control sk-hidden--visually\" id=\"sk-estimator-id-1\" type=\"checkbox\" checked><label for=\"sk-estimator-id-1\" class=\"sk-toggleable__label sk-toggleable__label-arrow\">LinearRegression</label><div class=\"sk-toggleable__content\"><pre>LinearRegression()</pre></div></div></div></div></div>"
     },
     "execution_count": 97,
     "metadata": {},
     "output_type": "execute_result"
    }
   ],
   "source": [
    "lr.fit(x, y)"
   ],
   "metadata": {
    "collapsed": false,
    "ExecuteTime": {
     "end_time": "2023-12-25T11:28:44.532512400Z",
     "start_time": "2023-12-25T11:28:44.436123400Z"
    }
   },
   "id": "eb8d0e98079c90e4"
  },
  {
   "cell_type": "code",
   "execution_count": 98,
   "outputs": [
    {
     "data": {
      "text/plain": "(-43498008797419.52,\n array([-5.56496057e+04, -5.67115785e+04,  1.37347143e+04, -1.94308245e+03,\n         7.34326674e+03, -4.57092770e+04,  4.54532480e+04,  7.47141649e+04,\n         6.60458913e+03,  1.04305181e+03,  9.24831222e+03,  2.15955520e+13,\n         2.02684882e+13,  4.78694248e+11,  1.37102115e+13,  1.45628757e+13]))"
     },
     "execution_count": 98,
     "metadata": {},
     "output_type": "execute_result"
    }
   ],
   "source": [
    "lr.intercept_, lr.coef_"
   ],
   "metadata": {
    "collapsed": false,
    "ExecuteTime": {
     "end_time": "2023-12-25T11:28:44.587311300Z",
     "start_time": "2023-12-25T11:28:44.489996800Z"
    }
   },
   "id": "9829151bd0825a44"
  },
  {
   "cell_type": "code",
   "execution_count": 99,
   "outputs": [],
   "source": [
    "y_hat = lr.predict(x)"
   ],
   "metadata": {
    "collapsed": false,
    "ExecuteTime": {
     "end_time": "2023-12-25T11:28:44.681158600Z",
     "start_time": "2023-12-25T11:28:44.586310500Z"
    }
   },
   "id": "8845dabbda2a2895"
  },
  {
   "cell_type": "code",
   "execution_count": 106,
   "outputs": [
    {
     "data": {
      "text/plain": "[<matplotlib.lines.Line2D at 0x1aaba72acd0>]"
     },
     "execution_count": 106,
     "metadata": {},
     "output_type": "execute_result"
    },
    {
     "data": {
      "text/plain": "<Figure size 640x480 with 1 Axes>",
      "image/png": "[encoded data removed]"
     },
     "metadata": {},
     "output_type": "display_data"
    }
   ],
   "source": [
    "import matplotlib.pyplot as plt\n",
    "\n",
    "plt.plot(y, y_hat, \"o\")"
   ],
   "metadata": {
    "collapsed": false,
    "ExecuteTime": {
     "end_time": "2023-12-25T11:30:33.929407600Z",
     "start_time": "2023-12-25T11:30:33.783501100Z"
    }
   },
   "id": "ab1f5d895d50fbdb"
  },
  {
   "cell_type": "code",
   "execution_count": 101,
   "outputs": [
    {
     "data": {
      "text/plain": "0.6481553625161016"
     },
     "execution_count": 101,
     "metadata": {},
     "output_type": "execute_result"
    }
   ],
   "source": [
    "from sklearn.metrics import r2_score\n",
    "\n",
    "r2_score(y, y_hat)"
   ],
   "metadata": {
    "collapsed": false,
    "ExecuteTime": {
     "end_time": "2023-12-25T11:28:44.869077400Z",
     "start_time": "2023-12-25T11:28:44.809881Z"
    }
   },
   "id": "9407ee8eaacf0ca4"
  },
  {
   "cell_type": "code",
   "execution_count": 102,
   "outputs": [],
   "source": [
    "transformed_test = preprocessing.transform(test_df)"
   ],
   "metadata": {
    "collapsed": false,
    "ExecuteTime": {
     "end_time": "2023-12-25T11:28:44.916226Z",
     "start_time": "2023-12-25T11:28:44.824392200Z"
    }
   },
   "id": "3202fa15f8fe2d81"
  },
  {
   "cell_type": "code",
   "execution_count": 103,
   "outputs": [],
   "source": [
    "x_test = transformed_test\n",
    "y_test = np.array(test_df.median_house_value)"
   ],
   "metadata": {
    "collapsed": false,
    "ExecuteTime": {
     "end_time": "2023-12-25T11:28:44.958264400Z",
     "start_time": "2023-12-25T11:28:44.845103300Z"
    }
   },
   "id": "ad4222622f53c040"
  },
  {
   "cell_type": "code",
   "execution_count": 104,
   "outputs": [],
   "source": [
    "y_test_hat = lr.predict(x_test)"
   ],
   "metadata": {
    "collapsed": false,
    "ExecuteTime": {
     "end_time": "2023-12-25T11:28:45.020356300Z",
     "start_time": "2023-12-25T11:28:44.937123400Z"
    }
   },
   "id": "6eaa1840e0f22d17"
  },
  {
   "cell_type": "code",
   "execution_count": 105,
   "outputs": [
    {
     "data": {
      "text/plain": "0.6564596208937254"
     },
     "execution_count": 105,
     "metadata": {},
     "output_type": "execute_result"
    }
   ],
   "source": [
    "r2_score(y_test, y_test_hat)"
   ],
   "metadata": {
    "collapsed": false,
    "ExecuteTime": {
     "end_time": "2023-12-25T11:28:45.074996700Z",
     "start_time": "2023-12-25T11:28:44.998982200Z"
    }
   },
   "id": "597ff0317064191a"
  },
  {
   "cell_type": "code",
   "execution_count": 105,
   "outputs": [],
   "source": [],
   "metadata": {
    "collapsed": false,
    "ExecuteTime": {
     "end_time": "2023-12-25T11:28:45.165494700Z",
     "start_time": "2023-12-25T11:28:45.072994800Z"
    }
   },
   "id": "8c2e5acf49165962"
  }
 ],
 "metadata": {
  "kernelspec": {
   "display_name": "Python 3",
   "language": "python",
   "name": "python3"
  },
  "language_info": {
   "codemirror_mode": {
    "name": "ipython",
    "version": 2
   },
   "file_extension": ".py",
   "mimetype": "text/x-python",
   "name": "python",
   "nbconvert_exporter": "python",
   "pygments_lexer": "ipython2",
   "version": "2.7.6"
  }
 },
 "nbformat": 4,
 "nbformat_minor": 5
}
