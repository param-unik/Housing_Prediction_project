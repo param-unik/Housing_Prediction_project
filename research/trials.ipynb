{
 "cells": [
  {
   "cell_type": "code",
   "execution_count": 1,
   "id": "initial_id",
   "metadata": {
    "collapsed": true,
    "ExecuteTime": {
     "end_time": "2023-12-23T19:27:10.278479500Z",
     "start_time": "2023-12-23T19:27:10.272440Z"
    }
   },
   "outputs": [],
   "source": [
    "from collections import namedtuple"
   ]
  },
  {
   "cell_type": "markdown",
   "source": [
    "# DataIngestionConfi:\n",
    "\n",
    "1. Download url\n",
    "2. Download folder as compressed file\n",
    "3. Extract folder\n",
    "4. Train dataset folder\n",
    "5. Test dataset folder"
   ],
   "metadata": {
    "collapsed": false
   },
   "id": "8600275218f3c3e9"
  },
  {
   "cell_type": "code",
   "execution_count": 2,
   "outputs": [],
   "source": [
    "DataIngestionConfig = namedtuple('DataIngestionConfig', ['dataset_download_url', 'tgz_download_dir', 'raw_data_dir', 'ingested_train_dir', 'ingested_test_dir'])"
   ],
   "metadata": {
    "collapsed": false,
    "ExecuteTime": {
     "end_time": "2023-12-23T19:27:10.295532200Z",
     "start_time": "2023-12-23T19:27:10.276477500Z"
    }
   },
   "id": "f9a9048e32463dc4"
  },
  {
   "cell_type": "code",
   "execution_count": 3,
   "outputs": [],
   "source": [
    "data_ingestion_config = DataIngestionConfig(dataset_download_url=\"xyz\",\n",
    "                    tgz_download_dir='sdsds',\n",
    "                    raw_data_dir='dsdsd',\n",
    "                    ingested_train_dir='dsdsd',\n",
    "                    ingested_test_dir='dsdsdsd')\n"
   ],
   "metadata": {
    "collapsed": false,
    "ExecuteTime": {
     "end_time": "2023-12-23T19:27:10.309660500Z",
     "start_time": "2023-12-23T19:27:10.292527100Z"
    }
   },
   "id": "912d0200f7aede68"
  },
  {
   "cell_type": "code",
   "execution_count": 4,
   "outputs": [
    {
     "data": {
      "text/plain": "DataIngestionConfig(dataset_download_url='xyz', tgz_download_dir='sdsds', raw_data_dir='dsdsd', ingested_train_dir='dsdsd', ingested_test_dir='dsdsdsd')"
     },
     "execution_count": 4,
     "metadata": {},
     "output_type": "execute_result"
    }
   ],
   "source": [
    "data_ingestion_config"
   ],
   "metadata": {
    "collapsed": false,
    "ExecuteTime": {
     "end_time": "2023-12-23T19:27:10.321051400Z",
     "start_time": "2023-12-23T19:27:10.307660500Z"
    }
   },
   "id": "e2e605c4c53939ac"
  },
  {
   "cell_type": "code",
   "execution_count": 5,
   "outputs": [],
   "source": [
    "import yaml\n",
    "import os"
   ],
   "metadata": {
    "collapsed": false,
    "ExecuteTime": {
     "end_time": "2023-12-23T19:27:10.354954300Z",
     "start_time": "2023-12-23T19:27:10.323485600Z"
    }
   },
   "id": "24d388756478eda9"
  },
  {
   "cell_type": "code",
   "execution_count": 6,
   "outputs": [
    {
     "data": {
      "text/plain": "'C:\\\\Users\\\\Param\\\\Python-Project\\\\CampusX\\\\GitHub\\\\Housing_Prediction_project\\\\research'"
     },
     "execution_count": 6,
     "metadata": {},
     "output_type": "execute_result"
    }
   ],
   "source": [
    "os.getcwd()"
   ],
   "metadata": {
    "collapsed": false,
    "ExecuteTime": {
     "end_time": "2023-12-23T19:27:10.368486400Z",
     "start_time": "2023-12-23T19:27:10.353952500Z"
    }
   },
   "id": "c497a1676756675c"
  },
  {
   "cell_type": "code",
   "execution_count": 7,
   "outputs": [],
   "source": [
    "os.chdir( 'C:\\\\Users\\\\Param\\\\Python-Project\\\\CampusX\\\\GitHub\\\\Housing_Prediction_project')"
   ],
   "metadata": {
    "collapsed": false,
    "ExecuteTime": {
     "end_time": "2023-12-23T19:27:10.389696700Z",
     "start_time": "2023-12-23T19:27:10.368486400Z"
    }
   },
   "id": "1fd6acb98790f2ce"
  },
  {
   "cell_type": "code",
   "execution_count": 8,
   "outputs": [
    {
     "data": {
      "text/plain": "'C:\\\\Users\\\\Param\\\\Python-Project\\\\CampusX\\\\GitHub\\\\Housing_Prediction_project'"
     },
     "execution_count": 8,
     "metadata": {},
     "output_type": "execute_result"
    }
   ],
   "source": [
    "os.getcwd()"
   ],
   "metadata": {
    "collapsed": false,
    "ExecuteTime": {
     "end_time": "2023-12-23T19:27:10.399769800Z",
     "start_time": "2023-12-23T19:27:10.384697Z"
    }
   },
   "id": "b81f1884dec0c430"
  },
  {
   "cell_type": "code",
   "execution_count": 9,
   "outputs": [
    {
     "data": {
      "text/plain": "['config.yaml', 'model.yaml', 'schema.yaml']"
     },
     "execution_count": 9,
     "metadata": {},
     "output_type": "execute_result"
    }
   ],
   "source": [
    "os.listdir(\"config\")"
   ],
   "metadata": {
    "collapsed": false,
    "ExecuteTime": {
     "end_time": "2023-12-23T19:27:10.429752200Z",
     "start_time": "2023-12-23T19:27:10.399769800Z"
    }
   },
   "id": "1237a6a311d5bf18"
  },
  {
   "cell_type": "code",
   "execution_count": 10,
   "outputs": [
    {
     "data": {
      "text/plain": "'config\\\\config.yaml'"
     },
     "execution_count": 10,
     "metadata": {},
     "output_type": "execute_result"
    }
   ],
   "source": [
    "config_file_path = os.path.join('config', 'config.yaml')\n",
    "config_file_path"
   ],
   "metadata": {
    "collapsed": false,
    "ExecuteTime": {
     "end_time": "2023-12-23T19:27:10.437619500Z",
     "start_time": "2023-12-23T19:27:10.416858900Z"
    }
   },
   "id": "96246084d54c0f82"
  },
  {
   "cell_type": "code",
   "execution_count": 11,
   "outputs": [
    {
     "data": {
      "text/plain": "True"
     },
     "execution_count": 11,
     "metadata": {},
     "output_type": "execute_result"
    }
   ],
   "source": [
    "os.path.exists(config_file_path)"
   ],
   "metadata": {
    "collapsed": false,
    "ExecuteTime": {
     "end_time": "2023-12-23T19:27:10.465595800Z",
     "start_time": "2023-12-23T19:27:10.431716600Z"
    }
   },
   "id": "7cf1880bb430428c"
  },
  {
   "cell_type": "code",
   "execution_count": 12,
   "outputs": [],
   "source": [
    "# import sys\n",
    "# from housing.exception import HousingException\n",
    "# from housing.logger import logging\n",
    "#\n",
    "# def read_yaml_file(file_path: str) -> dict:\n",
    "#     \"\"\"\n",
    "#     Read YAML file and return contents as a dictionary\n",
    "#     :param\n",
    "#         file_path: str\n",
    "#     :return: dict\n",
    "#     \"\"\"\n",
    "#\n",
    "#     try:\n",
    "#         with open(file_path, 'rb') as yaml_file:\n",
    "#             return yaml.safe_load(yaml_file)\n",
    "#     except Exception as e:\n",
    "#         housing_error = HousingException(e, sys)\n",
    "#         logging.info(housing_error.error_message)\n"
   ],
   "metadata": {
    "collapsed": false,
    "ExecuteTime": {
     "end_time": "2023-12-23T19:27:10.465595800Z",
     "start_time": "2023-12-23T19:27:10.447649400Z"
    }
   },
   "id": "e0f575cfbed311f3"
  },
  {
   "cell_type": "code",
   "execution_count": 13,
   "outputs": [],
   "source": [
    "# read_yaml_file(config_file_path)"
   ],
   "metadata": {
    "collapsed": false,
    "ExecuteTime": {
     "end_time": "2023-12-23T19:27:10.479682900Z",
     "start_time": "2023-12-23T19:27:10.463597100Z"
    }
   },
   "id": "c88dc083fb27c051"
  },
  {
   "cell_type": "code",
   "execution_count": 14,
   "outputs": [],
   "source": [
    "content = None\n",
    "with open(config_file_path, 'rb') as yaml_file:\n",
    "    content =  yaml.safe_load(yaml_file)"
   ],
   "metadata": {
    "collapsed": false,
    "ExecuteTime": {
     "end_time": "2023-12-23T19:27:10.495701700Z",
     "start_time": "2023-12-23T19:27:10.481687700Z"
    }
   },
   "id": "ae70a5a92fb9f6c2"
  },
  {
   "cell_type": "code",
   "execution_count": 15,
   "outputs": [
    {
     "data": {
      "text/plain": "{'training_pipeline_config': {'pipeline_name': 'housing',\n  'artifact_dir': 'artifact'},\n 'data_ingestion_config': {'dataset_download_url': 'https://raw.githubusercontent.com/ageron/handson-ml/master/datasets/housing/housing.tgz',\n  'raw_data_dir': 'raw_data',\n  'tgz_download_dir': 'tgz_data',\n  'ingested_dir': 'ingested_data',\n  'ingested_train_dir': 'train',\n  'ingested_test_dir': 'test'},\n 'data_validation_config': {'schema_dir': 'config',\n  'schema_file_name': 'schema.yaml',\n  'report_file_name': 'report.json',\n  'report_page_file_name': 'report.html'},\n 'data_transformation_config': {'add_bedroom_per_room': True,\n  'transformed_dir': 'transformed_data',\n  'transformed_train_dir': 'train',\n  'transformed_test_dir': 'test',\n  'preprocessing_dir': 'preprocessed',\n  'preprocessed_obj_file_name': 'preprocessed.pkl'},\n 'model_trainer_config': {'trained_model_dir': 'trained_model',\n  'model_file_name': 'model.pkl',\n  'base_accuracy': 0.6,\n  'model_config_dir': 'config',\n  'model_config_file_name': 'model.yaml'},\n 'model_evaluation_config': {'model_evaluation_file_name': 'model_evaluation.yaml'},\n 'model_pusher_config': {'model_export_dir': 'saved_models'}}"
     },
     "execution_count": 15,
     "metadata": {},
     "output_type": "execute_result"
    }
   ],
   "source": [
    "content"
   ],
   "metadata": {
    "collapsed": false,
    "ExecuteTime": {
     "end_time": "2023-12-23T19:27:10.518263300Z",
     "start_time": "2023-12-23T19:27:10.495701700Z"
    }
   },
   "id": "179c2cc9024b4b20"
  },
  {
   "cell_type": "code",
   "execution_count": 16,
   "outputs": [],
   "source": [
    "from housing.config.configuration import Configuration\n",
    "from housing.constants import *"
   ],
   "metadata": {
    "collapsed": false,
    "ExecuteTime": {
     "end_time": "2023-12-23T19:27:10.531806400Z",
     "start_time": "2023-12-23T19:27:10.512790400Z"
    }
   },
   "id": "a2954ff04e9b2d11"
  },
  {
   "cell_type": "code",
   "execution_count": 17,
   "outputs": [],
   "source": [
    "config = Configuration(CONFIG_FILE_PATH, CURRENT_TIME_STAMP)"
   ],
   "metadata": {
    "collapsed": false,
    "ExecuteTime": {
     "end_time": "2023-12-23T19:27:10.541873100Z",
     "start_time": "2023-12-23T19:27:10.527792400Z"
    }
   },
   "id": "d13895f15b0d124e"
  },
  {
   "cell_type": "code",
   "execution_count": 18,
   "outputs": [
    {
     "data": {
      "text/plain": "{'training_pipeline_config': {'pipeline_name': 'housing',\n  'artifact_dir': 'artifact'},\n 'data_ingestion_config': {'dataset_download_url': 'https://raw.githubusercontent.com/ageron/handson-ml/master/datasets/housing/housing.tgz',\n  'raw_data_dir': 'raw_data',\n  'tgz_download_dir': 'tgz_data',\n  'ingested_dir': 'ingested_data',\n  'ingested_train_dir': 'train',\n  'ingested_test_dir': 'test'},\n 'data_validation_config': {'schema_dir': 'config',\n  'schema_file_name': 'schema.yaml',\n  'report_file_name': 'report.json',\n  'report_page_file_name': 'report.html'},\n 'data_transformation_config': {'add_bedroom_per_room': True,\n  'transformed_dir': 'transformed_data',\n  'transformed_train_dir': 'train',\n  'transformed_test_dir': 'test',\n  'preprocessing_dir': 'preprocessed',\n  'preprocessed_obj_file_name': 'preprocessed.pkl'},\n 'model_trainer_config': {'trained_model_dir': 'trained_model',\n  'model_file_name': 'model.pkl',\n  'base_accuracy': 0.6,\n  'model_config_dir': 'config',\n  'model_config_file_name': 'model.yaml'},\n 'model_evaluation_config': {'model_evaluation_file_name': 'model_evaluation.yaml'},\n 'model_pusher_config': {'model_export_dir': 'saved_models'}}"
     },
     "execution_count": 18,
     "metadata": {},
     "output_type": "execute_result"
    }
   ],
   "source": [
    "config.config_info"
   ],
   "metadata": {
    "collapsed": false,
    "ExecuteTime": {
     "end_time": "2023-12-23T19:27:10.556933800Z",
     "start_time": "2023-12-23T19:27:10.543873800Z"
    }
   },
   "id": "4e1eb7e70a6b941"
  },
  {
   "cell_type": "code",
   "execution_count": 19,
   "outputs": [
    {
     "data": {
      "text/plain": "TrainingPipelineConfig(pipeline_name='housing', artifact_dir='C:\\\\Users\\\\Param\\\\Python-Project\\\\CampusX\\\\GitHub\\\\Housing_Prediction_project\\\\housing\\\\artifact')"
     },
     "execution_count": 19,
     "metadata": {},
     "output_type": "execute_result"
    }
   ],
   "source": [
    "config.get_training_pipeline_config()"
   ],
   "metadata": {
    "collapsed": false,
    "ExecuteTime": {
     "end_time": "2023-12-23T19:27:10.584971200Z",
     "start_time": "2023-12-23T19:27:10.558935300Z"
    }
   },
   "id": "e0b3a140a8c9f49a"
  },
  {
   "cell_type": "code",
   "execution_count": 20,
   "outputs": [
    {
     "data": {
      "text/plain": "'data_validation_config'"
     },
     "execution_count": 20,
     "metadata": {},
     "output_type": "execute_result"
    }
   ],
   "source": [
    "DATA_VALIDATION_CONFIG_KEY"
   ],
   "metadata": {
    "collapsed": false,
    "ExecuteTime": {
     "end_time": "2023-12-23T19:27:10.590470200Z",
     "start_time": "2023-12-23T19:27:10.573441400Z"
    }
   },
   "id": "aa66e047df9b4d28"
  },
  {
   "cell_type": "code",
   "execution_count": 21,
   "outputs": [
    {
     "data": {
      "text/plain": "{'dataset_download_url': 'https://raw.githubusercontent.com/ageron/handson-ml/master/datasets/housing/housing.tgz',\n 'raw_data_dir': 'raw_data',\n 'tgz_download_dir': 'tgz_data',\n 'ingested_dir': 'ingested_data',\n 'ingested_train_dir': 'train',\n 'ingested_test_dir': 'test'}"
     },
     "execution_count": 21,
     "metadata": {},
     "output_type": "execute_result"
    }
   ],
   "source": [
    "config.config_info[DATA_INGESTION_CONFIG_KEY]"
   ],
   "metadata": {
    "collapsed": false,
    "ExecuteTime": {
     "end_time": "2023-12-23T19:27:10.616051Z",
     "start_time": "2023-12-23T19:27:10.590470200Z"
    }
   },
   "id": "8824fdca9c63ee95"
  },
  {
   "cell_type": "code",
   "execution_count": 22,
   "outputs": [
    {
     "data": {
      "text/plain": "DataIngestionConfig(dataset_download_url='https://raw.githubusercontent.com/ageron/handson-ml/master/datasets/housing/housing.tgz', tgz_download_dir='C:\\\\Users\\\\Param\\\\Python-Project\\\\CampusX\\\\GitHub\\\\Housing_Prediction_project\\\\housing\\\\artifact\\\\data_ingestion\\\\2023-12-24-00-57-10\\\\tgz_data', raw_data_dir='C:\\\\Users\\\\Param\\\\Python-Project\\\\CampusX\\\\GitHub\\\\Housing_Prediction_project\\\\housing\\\\artifact\\\\data_ingestion\\\\2023-12-24-00-57-10\\\\raw_data', ingested_train_dir='C:\\\\Users\\\\Param\\\\Python-Project\\\\CampusX\\\\GitHub\\\\Housing_Prediction_project\\\\housing\\\\artifact\\\\data_ingestion\\\\2023-12-24-00-57-10\\\\ingested_data\\\\train', ingested_test_dir='C:\\\\Users\\\\Param\\\\Python-Project\\\\CampusX\\\\GitHub\\\\Housing_Prediction_project\\\\housing\\\\artifact\\\\data_ingestion\\\\2023-12-24-00-57-10\\\\ingested_data\\\\test')"
     },
     "execution_count": 22,
     "metadata": {},
     "output_type": "execute_result"
    }
   ],
   "source": [
    "config.get_data_ingestion_config()"
   ],
   "metadata": {
    "collapsed": false,
    "ExecuteTime": {
     "end_time": "2023-12-23T19:27:10.621580200Z",
     "start_time": "2023-12-23T19:27:10.606505100Z"
    }
   },
   "id": "2418c04f2bbc7bb5"
  },
  {
   "cell_type": "code",
   "execution_count": 22,
   "outputs": [],
   "source": [],
   "metadata": {
    "collapsed": false,
    "ExecuteTime": {
     "end_time": "2023-12-23T19:27:10.641755800Z",
     "start_time": "2023-12-23T19:27:10.621580200Z"
    }
   },
   "id": "6e9dda0ae9c40261"
  }
 ],
 "metadata": {
  "kernelspec": {
   "display_name": "Python 3",
   "language": "python",
   "name": "python3"
  },
  "language_info": {
   "codemirror_mode": {
    "name": "ipython",
    "version": 2
   },
   "file_extension": ".py",
   "mimetype": "text/x-python",
   "name": "python",
   "nbconvert_exporter": "python",
   "pygments_lexer": "ipython2",
   "version": "2.7.6"
  }
 },
 "nbformat": 4,
 "nbformat_minor": 5
}
